{
  "nbformat": 4,
  "nbformat_minor": 0,
  "metadata": {
    "colab": {
      "name": "41_ETEL_TI.ipynb",
      "provenance": [],
      "collapsed_sections": [
        "05QRZ2E40new",
        "3azfCWJt1p8K",
        "fm80goUe1yJi",
        "afiyAkvx2kkM"
      ],
      "include_colab_link": true
    },
    "kernelspec": {
      "name": "python3",
      "display_name": "Python 3"
    },
    "accelerator": "GPU"
  },
  "cells": [
    {
      "cell_type": "markdown",
      "metadata": {
        "id": "view-in-github",
        "colab_type": "text"
      },
      "source": [
        "<a href=\"https://colab.research.google.com/github/doaa450/Hybrid-Model/blob/main/41_ETEL_TI.ipynb\" target=\"_parent\"><img src=\"https://colab.research.google.com/assets/colab-badge.svg\" alt=\"Open In Colab\"/></a>"
      ]
    },
    {
      "cell_type": "markdown",
      "metadata": {
        "id": "QC4PUddA5eYl"
      },
      "source": [
        "## Predict ETEL stock price using Technical Indicator"
      ]
    },
    {
      "cell_type": "code",
      "metadata": {
        "id": "ezkUMZBgOPSW"
      },
      "source": [
        "import random as np\n",
        "from numpy.random import seed\n",
        "import tensorflow\n",
        "tensorflow.random.set_seed(314)\n",
        "np.seed(314)"
      ],
      "execution_count": null,
      "outputs": []
    },
    {
      "cell_type": "code",
      "metadata": {
        "id": "SGqH-KYWaJxN",
        "colab": {
          "base_uri": "https://localhost:8080/"
        },
        "outputId": "c805902d-95d4-4e8f-fc03-2bb7600459b7"
      },
      "source": [
        "!wget https://launchpad.net/~mario-mariomedina/+archive/ubuntu/talib/+files/libta-lib0_0.4.0-oneiric1_amd64.deb -qO libta.deb\n",
        "!wget https://launchpad.net/~mario-mariomedina/+archive/ubuntu/talib/+files/ta-lib0-dev_0.4.0-oneiric1_amd64.deb -qO ta.deb\n",
        "!dpkg -i libta.deb ta.deb\n",
        "!pip install ta-lib\n",
        "import talib"
      ],
      "execution_count": null,
      "outputs": [
        {
          "output_type": "stream",
          "text": [
            "Selecting previously unselected package libta-lib0.\n",
            "(Reading database ... 148489 files and directories currently installed.)\n",
            "Preparing to unpack libta.deb ...\n",
            "Unpacking libta-lib0 (0.4.0-oneiric1) ...\n",
            "Selecting previously unselected package ta-lib0-dev.\n",
            "Preparing to unpack ta.deb ...\n",
            "Unpacking ta-lib0-dev (0.4.0-oneiric1) ...\n",
            "Setting up libta-lib0 (0.4.0-oneiric1) ...\n",
            "Setting up ta-lib0-dev (0.4.0-oneiric1) ...\n",
            "Processing triggers for man-db (2.8.3-2ubuntu0.1) ...\n",
            "Processing triggers for libc-bin (2.27-3ubuntu1.2) ...\n",
            "/sbin/ldconfig.real: /usr/local/lib/python3.7/dist-packages/ideep4py/lib/libmkldnn.so.0 is not a symbolic link\n",
            "\n",
            "Collecting ta-lib\n",
            "  Downloading TA-Lib-0.4.21.tar.gz (270 kB)\n",
            "\u001b[K     |████████████████████████████████| 270 kB 5.3 MB/s \n",
            "\u001b[?25hRequirement already satisfied: numpy in /usr/local/lib/python3.7/dist-packages (from ta-lib) (1.19.5)\n",
            "Building wheels for collected packages: ta-lib\n",
            "  Building wheel for ta-lib (setup.py) ... \u001b[?25l\u001b[?25hdone\n",
            "  Created wheel for ta-lib: filename=TA_Lib-0.4.21-cp37-cp37m-linux_x86_64.whl size=1444950 sha256=e05a80721053197ab9a6d25c99a0b6486bb539be4b3229e86cefb692e49bbf5e\n",
            "  Stored in directory: /root/.cache/pip/wheels/32/3c/86/8dfaee7c11df54449f188172fcf66ae6d134f3118d0237df4a\n",
            "Successfully built ta-lib\n",
            "Installing collected packages: ta-lib\n",
            "Successfully installed ta-lib-0.4.21\n"
          ],
          "name": "stdout"
        }
      ]
    },
    {
      "cell_type": "code",
      "metadata": {
        "id": "jfWm_hMxcxbx"
      },
      "source": [
        "import numpy as np\n",
        "import pandas as pd\n",
        "import matplotlib.pyplot as plt\n",
        "import seaborn as sns\n",
        "from sklearn.preprocessing import MinMaxScaler\n",
        "import datetime\n",
        "%matplotlib inline\n",
        "sns.set_style('whitegrid')\n",
        "plt.style.use(\"fivethirtyeight\")\n",
        "sns.set(rc={'figure.figsize': [15, 20]}, font_scale=1.2)\n",
        "from tensorflow import keras\n",
        "from keras.regularizers import l1\n",
        "from tensorflow.keras.models import Sequential\n",
        "from tensorflow.keras.layers import *\n",
        "from tensorflow.keras.optimizers import *\n",
        "from tensorflow.keras.callbacks import EarlyStopping, ReduceLROnPlateau, ModelCheckpoint"
      ],
      "execution_count": null,
      "outputs": []
    },
    {
      "cell_type": "code",
      "metadata": {
        "id": "H9VOLlkndxTB"
      },
      "source": [
        "# Load the TensorBoard notebook extension\n",
        "%load_ext tensorboard"
      ],
      "execution_count": null,
      "outputs": []
    },
    {
      "cell_type": "code",
      "metadata": {
        "id": "TiEqVj7Id2Yk"
      },
      "source": [
        "# Clear any logs from previous runs\n",
        "!mkdir models\n",
        "!rm -rf ./logs/"
      ],
      "execution_count": null,
      "outputs": []
    },
    {
      "cell_type": "code",
      "metadata": {
        "id": "MelL5LoE2ODS",
        "colab": {
          "base_uri": "https://localhost:8080/"
        },
        "outputId": "4f311571-082b-4967-a31e-6e996e0bc095"
      },
      "source": [
        "from google.colab import drive \n",
        "!gdown --id '1s21qnolwOsHRWHSAjv6kz-k2W_9jcnSc'\n",
        "# !unzip data.zip"
      ],
      "execution_count": null,
      "outputs": [
        {
          "output_type": "stream",
          "text": [
            "Downloading...\n",
            "From: https://drive.google.com/uc?id=1s21qnolwOsHRWHSAjv6kz-k2W_9jcnSc\n",
            "To: /content/ETEL Historical Data.csv\n",
            "\r  0% 0.00/100k [00:00<?, ?B/s]\r100% 100k/100k [00:00<00:00, 30.1MB/s]\n"
          ],
          "name": "stdout"
        }
      ]
    },
    {
      "cell_type": "code",
      "metadata": {
        "id": "VjdX01XzSPkY",
        "colab": {
          "base_uri": "https://localhost:8080/",
          "height": 204
        },
        "outputId": "2308badd-970e-4099-8c8a-eac9b6f036dd"
      },
      "source": [
        "# Import data\n",
        "df = pd.read_csv(\"/content/ETEL Historical Data.csv\")\n",
        "df.head()"
      ],
      "execution_count": null,
      "outputs": [
        {
          "output_type": "execute_result",
          "data": {
            "text/html": [
              "<div>\n",
              "<style scoped>\n",
              "    .dataframe tbody tr th:only-of-type {\n",
              "        vertical-align: middle;\n",
              "    }\n",
              "\n",
              "    .dataframe tbody tr th {\n",
              "        vertical-align: top;\n",
              "    }\n",
              "\n",
              "    .dataframe thead th {\n",
              "        text-align: right;\n",
              "    }\n",
              "</style>\n",
              "<table border=\"1\" class=\"dataframe\">\n",
              "  <thead>\n",
              "    <tr style=\"text-align: right;\">\n",
              "      <th></th>\n",
              "      <th>Date</th>\n",
              "      <th>Price</th>\n",
              "      <th>Open</th>\n",
              "      <th>High</th>\n",
              "      <th>Low</th>\n",
              "      <th>Vol.</th>\n",
              "      <th>Change %</th>\n",
              "    </tr>\n",
              "  </thead>\n",
              "  <tbody>\n",
              "    <tr>\n",
              "      <th>0</th>\n",
              "      <td>1-Feb-12</td>\n",
              "      <td>14.96</td>\n",
              "      <td>15.06</td>\n",
              "      <td>15.06</td>\n",
              "      <td>14.60</td>\n",
              "      <td>729.42K</td>\n",
              "      <td>-0.13%</td>\n",
              "    </tr>\n",
              "    <tr>\n",
              "      <th>1</th>\n",
              "      <td>2-Feb-12</td>\n",
              "      <td>14.86</td>\n",
              "      <td>14.85</td>\n",
              "      <td>15.00</td>\n",
              "      <td>14.51</td>\n",
              "      <td>608.54K</td>\n",
              "      <td>-0.67%</td>\n",
              "    </tr>\n",
              "    <tr>\n",
              "      <th>2</th>\n",
              "      <td>6-Feb-12</td>\n",
              "      <td>14.73</td>\n",
              "      <td>14.51</td>\n",
              "      <td>14.88</td>\n",
              "      <td>14.51</td>\n",
              "      <td>1.19M</td>\n",
              "      <td>-0.87%</td>\n",
              "    </tr>\n",
              "    <tr>\n",
              "      <th>3</th>\n",
              "      <td>7-Feb-12</td>\n",
              "      <td>14.95</td>\n",
              "      <td>14.72</td>\n",
              "      <td>15.05</td>\n",
              "      <td>14.70</td>\n",
              "      <td>623.80K</td>\n",
              "      <td>1.49%</td>\n",
              "    </tr>\n",
              "    <tr>\n",
              "      <th>4</th>\n",
              "      <td>8-Feb-12</td>\n",
              "      <td>14.88</td>\n",
              "      <td>14.87</td>\n",
              "      <td>15.00</td>\n",
              "      <td>14.80</td>\n",
              "      <td>836.25K</td>\n",
              "      <td>-0.47%</td>\n",
              "    </tr>\n",
              "  </tbody>\n",
              "</table>\n",
              "</div>"
            ],
            "text/plain": [
              "       Date  Price   Open   High    Low     Vol. Change %\n",
              "0  1-Feb-12  14.96  15.06  15.06  14.60  729.42K   -0.13%\n",
              "1  2-Feb-12  14.86  14.85  15.00  14.51  608.54K   -0.67%\n",
              "2  6-Feb-12  14.73  14.51  14.88  14.51    1.19M   -0.87%\n",
              "3  7-Feb-12  14.95  14.72  15.05  14.70  623.80K    1.49%\n",
              "4  8-Feb-12  14.88  14.87  15.00  14.80  836.25K   -0.47%"
            ]
          },
          "metadata": {},
          "execution_count": 7
        }
      ]
    },
    {
      "cell_type": "code",
      "metadata": {
        "id": "haJKFN8so6NZ"
      },
      "source": [
        "df['Vol.'] = (df['Vol.'].replace(r'[KM]+$', '', regex=True).astype(float) * \\\n",
        "         df['Vol.'].str.extract(r'[\\d\\.]+([KM]+)', expand=False)\n",
        "        .fillna(1)\n",
        "   .replace(['K','M'], [10**3, 10**6]).astype(int))"
      ],
      "execution_count": null,
      "outputs": []
    },
    {
      "cell_type": "code",
      "metadata": {
        "id": "n8vubfY-YSqq"
      },
      "source": [
        "df['Change %'] = df['Change %'].str.replace('%', '')"
      ],
      "execution_count": null,
      "outputs": []
    },
    {
      "cell_type": "code",
      "metadata": {
        "id": "xMiiuCZvTLzG",
        "colab": {
          "base_uri": "https://localhost:8080/",
          "height": 235
        },
        "outputId": "354e6346-0b35-46a1-8ec1-9f0cbd672adf"
      },
      "source": [
        "df['datetime'] = pd.to_datetime(df['Date'])\n",
        "df = df.set_index('datetime')\n",
        "df.drop(['Date'], axis=1, inplace=True)\n",
        "#df = df.sort_index(ascending=True)\n",
        "df.head()"
      ],
      "execution_count": null,
      "outputs": [
        {
          "output_type": "execute_result",
          "data": {
            "text/html": [
              "<div>\n",
              "<style scoped>\n",
              "    .dataframe tbody tr th:only-of-type {\n",
              "        vertical-align: middle;\n",
              "    }\n",
              "\n",
              "    .dataframe tbody tr th {\n",
              "        vertical-align: top;\n",
              "    }\n",
              "\n",
              "    .dataframe thead th {\n",
              "        text-align: right;\n",
              "    }\n",
              "</style>\n",
              "<table border=\"1\" class=\"dataframe\">\n",
              "  <thead>\n",
              "    <tr style=\"text-align: right;\">\n",
              "      <th></th>\n",
              "      <th>Price</th>\n",
              "      <th>Open</th>\n",
              "      <th>High</th>\n",
              "      <th>Low</th>\n",
              "      <th>Vol.</th>\n",
              "      <th>Change %</th>\n",
              "    </tr>\n",
              "    <tr>\n",
              "      <th>datetime</th>\n",
              "      <th></th>\n",
              "      <th></th>\n",
              "      <th></th>\n",
              "      <th></th>\n",
              "      <th></th>\n",
              "      <th></th>\n",
              "    </tr>\n",
              "  </thead>\n",
              "  <tbody>\n",
              "    <tr>\n",
              "      <th>2012-02-01</th>\n",
              "      <td>14.96</td>\n",
              "      <td>15.06</td>\n",
              "      <td>15.06</td>\n",
              "      <td>14.60</td>\n",
              "      <td>729420.0</td>\n",
              "      <td>-0.13</td>\n",
              "    </tr>\n",
              "    <tr>\n",
              "      <th>2012-02-02</th>\n",
              "      <td>14.86</td>\n",
              "      <td>14.85</td>\n",
              "      <td>15.00</td>\n",
              "      <td>14.51</td>\n",
              "      <td>608540.0</td>\n",
              "      <td>-0.67</td>\n",
              "    </tr>\n",
              "    <tr>\n",
              "      <th>2012-02-06</th>\n",
              "      <td>14.73</td>\n",
              "      <td>14.51</td>\n",
              "      <td>14.88</td>\n",
              "      <td>14.51</td>\n",
              "      <td>1190000.0</td>\n",
              "      <td>-0.87</td>\n",
              "    </tr>\n",
              "    <tr>\n",
              "      <th>2012-02-07</th>\n",
              "      <td>14.95</td>\n",
              "      <td>14.72</td>\n",
              "      <td>15.05</td>\n",
              "      <td>14.70</td>\n",
              "      <td>623800.0</td>\n",
              "      <td>1.49</td>\n",
              "    </tr>\n",
              "    <tr>\n",
              "      <th>2012-02-08</th>\n",
              "      <td>14.88</td>\n",
              "      <td>14.87</td>\n",
              "      <td>15.00</td>\n",
              "      <td>14.80</td>\n",
              "      <td>836250.0</td>\n",
              "      <td>-0.47</td>\n",
              "    </tr>\n",
              "  </tbody>\n",
              "</table>\n",
              "</div>"
            ],
            "text/plain": [
              "            Price   Open   High    Low       Vol. Change %\n",
              "datetime                                                  \n",
              "2012-02-01  14.96  15.06  15.06  14.60   729420.0    -0.13\n",
              "2012-02-02  14.86  14.85  15.00  14.51   608540.0    -0.67\n",
              "2012-02-06  14.73  14.51  14.88  14.51  1190000.0    -0.87\n",
              "2012-02-07  14.95  14.72  15.05  14.70   623800.0     1.49\n",
              "2012-02-08  14.88  14.87  15.00  14.80   836250.0    -0.47"
            ]
          },
          "metadata": {},
          "execution_count": 10
        }
      ]
    },
    {
      "cell_type": "code",
      "metadata": {
        "id": "IaxZg_AV5qxE"
      },
      "source": [
        ""
      ],
      "execution_count": null,
      "outputs": []
    },
    {
      "cell_type": "code",
      "metadata": {
        "id": "-EwzPLZEM_BF"
      },
      "source": [
        "df=df.astype(\"float32\")"
      ],
      "execution_count": null,
      "outputs": []
    },
    {
      "cell_type": "code",
      "metadata": {
        "id": "qc6tHBHGJlXg"
      },
      "source": [
        "df['Change %']=df['Change %'].apply(lambda x: x*10**-2)"
      ],
      "execution_count": null,
      "outputs": []
    },
    {
      "cell_type": "code",
      "metadata": {
        "id": "P4Wvba7QvVsI"
      },
      "source": [
        "df = df.dropna()\n",
        "dataset = df.values\n",
        "dataset = dataset.astype(\"float32\")"
      ],
      "execution_count": null,
      "outputs": []
    },
    {
      "cell_type": "code",
      "metadata": {
        "id": "zTQNo5qBY7rv"
      },
      "source": [
        "import talib\n",
        "from talib import abstract\n",
        "from talib import abstract\n",
        "from talib.abstract import *\n"
      ],
      "execution_count": null,
      "outputs": []
    },
    {
      "cell_type": "markdown",
      "metadata": {
        "id": "wj2MyFyu6osA"
      },
      "source": [
        "## Creat Technical Indicators"
      ]
    },
    {
      "cell_type": "markdown",
      "metadata": {
        "id": "keWApelhxrdY"
      },
      "source": [
        "# MACD - Moving Average Convergence/Divergence\n"
      ]
    },
    {
      "cell_type": "code",
      "metadata": {
        "id": "vEXrqPJ2xszH"
      },
      "source": [
        "df['macd'], df['macdsignal'],df['macdhist']  = MACD(df['Price'], fastperiod=12, slowperiod=26, signalperiod=9)\n"
      ],
      "execution_count": null,
      "outputs": []
    },
    {
      "cell_type": "markdown",
      "metadata": {
        "id": "j2pUGZjfyHsB"
      },
      "source": [
        "##Momentum"
      ]
    },
    {
      "cell_type": "code",
      "metadata": {
        "id": "UQsbqMh3x7GG"
      },
      "source": [
        "df['MOM'] = MOM(df['Price'], timeperiod=10)\n"
      ],
      "execution_count": null,
      "outputs": []
    },
    {
      "cell_type": "markdown",
      "metadata": {
        "id": "yp2qp2kKytGv"
      },
      "source": [
        "## ROC"
      ]
    },
    {
      "cell_type": "code",
      "metadata": {
        "id": "ezSiIyKLynJ9"
      },
      "source": [
        "df['ROC'] = ROC(df['Price'], timeperiod=10)\n"
      ],
      "execution_count": null,
      "outputs": []
    },
    {
      "cell_type": "markdown",
      "metadata": {
        "id": "_UEONGx4y0dn"
      },
      "source": [
        "## RSI"
      ]
    },
    {
      "cell_type": "code",
      "metadata": {
        "id": "age0sqbDyzYL"
      },
      "source": [
        "df['RSI'] = RSI(df['Price'], timeperiod=14)\n"
      ],
      "execution_count": null,
      "outputs": []
    },
    {
      "cell_type": "markdown",
      "metadata": {
        "id": "qhzEutzRzGNc"
      },
      "source": [
        "## STOCASTIC"
      ]
    },
    {
      "cell_type": "code",
      "metadata": {
        "id": "eIfudhHEzB8W"
      },
      "source": [
        "df['slowk'],df['slowd'] = STOCH(df['High'], df['Low'], df['Price'], fastk_period=5, slowk_period=3, slowk_matype=0, slowd_period=3, slowd_matype=0)\n"
      ],
      "execution_count": null,
      "outputs": []
    },
    {
      "cell_type": "markdown",
      "metadata": {
        "id": "05QRZ2E40new"
      },
      "source": [
        "##BBANDS - Bollinger Bands\n"
      ]
    },
    {
      "cell_type": "code",
      "metadata": {
        "id": "fggPxhG90ovg"
      },
      "source": [
        "df['upperband'], df['middleband'], df['lowerband'] = BBANDS(df['Price'], timeperiod=5, nbdevup=np.float64(2), nbdevdn=np.float64(2), matype=0)\n"
      ],
      "execution_count": null,
      "outputs": []
    },
    {
      "cell_type": "markdown",
      "metadata": {
        "id": "3azfCWJt1p8K"
      },
      "source": [
        "##EMA - Exponential Moving Average\n"
      ]
    },
    {
      "cell_type": "code",
      "metadata": {
        "id": "3U_eDUhp1Hj8"
      },
      "source": [
        "df['EMA_30'] = EMA(df['Price'], timeperiod=30)\n"
      ],
      "execution_count": null,
      "outputs": []
    },
    {
      "cell_type": "code",
      "metadata": {
        "id": "ErrGQWmP4ww8"
      },
      "source": [
        "df['EMA_10'] = EMA(df['Price'], timeperiod=10)\n"
      ],
      "execution_count": null,
      "outputs": []
    },
    {
      "cell_type": "markdown",
      "metadata": {
        "id": "fm80goUe1yJi"
      },
      "source": [
        "##MA - Moving average\n"
      ]
    },
    {
      "cell_type": "code",
      "metadata": {
        "id": "QgxHvJYt1zRl"
      },
      "source": [
        "#df['MA_30'] = MA(df['Price'], timeperiod=30, matype=0)\n",
        "#df['MA_10'] = MA(df['Price'], timeperiod=10, matype=0)\n"
      ],
      "execution_count": null,
      "outputs": []
    },
    {
      "cell_type": "markdown",
      "metadata": {
        "id": "afiyAkvx2kkM"
      },
      "source": [
        "##SMA - Simple Moving Average\n"
      ]
    },
    {
      "cell_type": "code",
      "metadata": {
        "id": "or6zmzx82l-P"
      },
      "source": [
        "df['SMA_30'] = SMA(df['Price'], timeperiod=30)\n",
        "df['SMA_10'] = SMA(df['Price'], timeperiod=10)\n"
      ],
      "execution_count": null,
      "outputs": []
    },
    {
      "cell_type": "markdown",
      "metadata": {
        "id": "k_QM1LhQ29FS"
      },
      "source": [
        "##AVGPRICE - Average Price\n"
      ]
    },
    {
      "cell_type": "code",
      "metadata": {
        "id": "oXhNz1pb28Fr"
      },
      "source": [
        "df['AVGPRICE'] = AVGPRICE(df['Open'], df['High'], df['Low'], df['Price'])\n"
      ],
      "execution_count": null,
      "outputs": []
    },
    {
      "cell_type": "markdown",
      "metadata": {
        "id": "YPTIEmH53ep9"
      },
      "source": [
        "##Median Price"
      ]
    },
    {
      "cell_type": "code",
      "metadata": {
        "id": "2k0dT-wm3dcE"
      },
      "source": [
        "df['Median'] = MEDPRICE(df['High'], df['Low'])\n"
      ],
      "execution_count": null,
      "outputs": []
    },
    {
      "cell_type": "markdown",
      "metadata": {
        "id": "iASEYvHu30PR"
      },
      "source": [
        "##Typical Price"
      ]
    },
    {
      "cell_type": "code",
      "metadata": {
        "id": "RX43XnU531dJ"
      },
      "source": [
        "df['TYPPRICE'] = TYPPRICE(df['High'], df['Low'], df['Price'])\n"
      ],
      "execution_count": null,
      "outputs": []
    },
    {
      "cell_type": "code",
      "metadata": {
        "id": "21WSZAv35Kiv",
        "colab": {
          "base_uri": "https://localhost:8080/",
          "height": 1797
        },
        "outputId": "f203df86-3b96-43e6-d3fc-3d5404cc5f24"
      },
      "source": [
        "df.head(35)"
      ],
      "execution_count": null,
      "outputs": [
        {
          "output_type": "execute_result",
          "data": {
            "text/html": [
              "<div>\n",
              "<style scoped>\n",
              "    .dataframe tbody tr th:only-of-type {\n",
              "        vertical-align: middle;\n",
              "    }\n",
              "\n",
              "    .dataframe tbody tr th {\n",
              "        vertical-align: top;\n",
              "    }\n",
              "\n",
              "    .dataframe thead th {\n",
              "        text-align: right;\n",
              "    }\n",
              "</style>\n",
              "<table border=\"1\" class=\"dataframe\">\n",
              "  <thead>\n",
              "    <tr style=\"text-align: right;\">\n",
              "      <th></th>\n",
              "      <th>Price</th>\n",
              "      <th>Open</th>\n",
              "      <th>High</th>\n",
              "      <th>Low</th>\n",
              "      <th>Vol.</th>\n",
              "      <th>Change %</th>\n",
              "      <th>macd</th>\n",
              "      <th>macdsignal</th>\n",
              "      <th>macdhist</th>\n",
              "      <th>MOM</th>\n",
              "      <th>ROC</th>\n",
              "      <th>RSI</th>\n",
              "      <th>slowk</th>\n",
              "      <th>slowd</th>\n",
              "      <th>upperband</th>\n",
              "      <th>middleband</th>\n",
              "      <th>lowerband</th>\n",
              "      <th>EMA_30</th>\n",
              "      <th>EMA_10</th>\n",
              "      <th>SMA_30</th>\n",
              "      <th>SMA_10</th>\n",
              "      <th>AVGPRICE</th>\n",
              "      <th>Median</th>\n",
              "      <th>TYPPRICE</th>\n",
              "    </tr>\n",
              "    <tr>\n",
              "      <th>datetime</th>\n",
              "      <th></th>\n",
              "      <th></th>\n",
              "      <th></th>\n",
              "      <th></th>\n",
              "      <th></th>\n",
              "      <th></th>\n",
              "      <th></th>\n",
              "      <th></th>\n",
              "      <th></th>\n",
              "      <th></th>\n",
              "      <th></th>\n",
              "      <th></th>\n",
              "      <th></th>\n",
              "      <th></th>\n",
              "      <th></th>\n",
              "      <th></th>\n",
              "      <th></th>\n",
              "      <th></th>\n",
              "      <th></th>\n",
              "      <th></th>\n",
              "      <th></th>\n",
              "      <th></th>\n",
              "      <th></th>\n",
              "      <th></th>\n",
              "    </tr>\n",
              "  </thead>\n",
              "  <tbody>\n",
              "    <tr>\n",
              "      <th>2012-02-01</th>\n",
              "      <td>14.960000</td>\n",
              "      <td>15.06</td>\n",
              "      <td>15.060000</td>\n",
              "      <td>14.60</td>\n",
              "      <td>729420.0</td>\n",
              "      <td>-0.0013</td>\n",
              "      <td>NaN</td>\n",
              "      <td>NaN</td>\n",
              "      <td>NaN</td>\n",
              "      <td>NaN</td>\n",
              "      <td>NaN</td>\n",
              "      <td>NaN</td>\n",
              "      <td>NaN</td>\n",
              "      <td>NaN</td>\n",
              "      <td>NaN</td>\n",
              "      <td>NaN</td>\n",
              "      <td>NaN</td>\n",
              "      <td>NaN</td>\n",
              "      <td>NaN</td>\n",
              "      <td>NaN</td>\n",
              "      <td>NaN</td>\n",
              "      <td>14.9200</td>\n",
              "      <td>14.830</td>\n",
              "      <td>14.873334</td>\n",
              "    </tr>\n",
              "    <tr>\n",
              "      <th>2012-02-02</th>\n",
              "      <td>14.860000</td>\n",
              "      <td>14.85</td>\n",
              "      <td>15.000000</td>\n",
              "      <td>14.51</td>\n",
              "      <td>608540.0</td>\n",
              "      <td>-0.0067</td>\n",
              "      <td>NaN</td>\n",
              "      <td>NaN</td>\n",
              "      <td>NaN</td>\n",
              "      <td>NaN</td>\n",
              "      <td>NaN</td>\n",
              "      <td>NaN</td>\n",
              "      <td>NaN</td>\n",
              "      <td>NaN</td>\n",
              "      <td>NaN</td>\n",
              "      <td>NaN</td>\n",
              "      <td>NaN</td>\n",
              "      <td>NaN</td>\n",
              "      <td>NaN</td>\n",
              "      <td>NaN</td>\n",
              "      <td>NaN</td>\n",
              "      <td>14.8050</td>\n",
              "      <td>14.755</td>\n",
              "      <td>14.790000</td>\n",
              "    </tr>\n",
              "    <tr>\n",
              "      <th>2012-02-06</th>\n",
              "      <td>14.730000</td>\n",
              "      <td>14.51</td>\n",
              "      <td>14.880000</td>\n",
              "      <td>14.51</td>\n",
              "      <td>1190000.0</td>\n",
              "      <td>-0.0087</td>\n",
              "      <td>NaN</td>\n",
              "      <td>NaN</td>\n",
              "      <td>NaN</td>\n",
              "      <td>NaN</td>\n",
              "      <td>NaN</td>\n",
              "      <td>NaN</td>\n",
              "      <td>NaN</td>\n",
              "      <td>NaN</td>\n",
              "      <td>NaN</td>\n",
              "      <td>NaN</td>\n",
              "      <td>NaN</td>\n",
              "      <td>NaN</td>\n",
              "      <td>NaN</td>\n",
              "      <td>NaN</td>\n",
              "      <td>NaN</td>\n",
              "      <td>14.6575</td>\n",
              "      <td>14.695</td>\n",
              "      <td>14.706667</td>\n",
              "    </tr>\n",
              "    <tr>\n",
              "      <th>2012-02-07</th>\n",
              "      <td>14.950000</td>\n",
              "      <td>14.72</td>\n",
              "      <td>15.050000</td>\n",
              "      <td>14.70</td>\n",
              "      <td>623800.0</td>\n",
              "      <td>0.0149</td>\n",
              "      <td>NaN</td>\n",
              "      <td>NaN</td>\n",
              "      <td>NaN</td>\n",
              "      <td>NaN</td>\n",
              "      <td>NaN</td>\n",
              "      <td>NaN</td>\n",
              "      <td>NaN</td>\n",
              "      <td>NaN</td>\n",
              "      <td>NaN</td>\n",
              "      <td>NaN</td>\n",
              "      <td>NaN</td>\n",
              "      <td>NaN</td>\n",
              "      <td>NaN</td>\n",
              "      <td>NaN</td>\n",
              "      <td>NaN</td>\n",
              "      <td>14.8550</td>\n",
              "      <td>14.875</td>\n",
              "      <td>14.900000</td>\n",
              "    </tr>\n",
              "    <tr>\n",
              "      <th>2012-02-08</th>\n",
              "      <td>14.880000</td>\n",
              "      <td>14.87</td>\n",
              "      <td>15.000000</td>\n",
              "      <td>14.80</td>\n",
              "      <td>836250.0</td>\n",
              "      <td>-0.0047</td>\n",
              "      <td>NaN</td>\n",
              "      <td>NaN</td>\n",
              "      <td>NaN</td>\n",
              "      <td>NaN</td>\n",
              "      <td>NaN</td>\n",
              "      <td>NaN</td>\n",
              "      <td>NaN</td>\n",
              "      <td>NaN</td>\n",
              "      <td>15.041215</td>\n",
              "      <td>14.876</td>\n",
              "      <td>14.710785</td>\n",
              "      <td>NaN</td>\n",
              "      <td>NaN</td>\n",
              "      <td>NaN</td>\n",
              "      <td>NaN</td>\n",
              "      <td>14.8875</td>\n",
              "      <td>14.900</td>\n",
              "      <td>14.893333</td>\n",
              "    </tr>\n",
              "    <tr>\n",
              "      <th>2012-02-09</th>\n",
              "      <td>14.890000</td>\n",
              "      <td>14.83</td>\n",
              "      <td>15.090000</td>\n",
              "      <td>14.80</td>\n",
              "      <td>505300.0</td>\n",
              "      <td>0.0007</td>\n",
              "      <td>NaN</td>\n",
              "      <td>NaN</td>\n",
              "      <td>NaN</td>\n",
              "      <td>NaN</td>\n",
              "      <td>NaN</td>\n",
              "      <td>NaN</td>\n",
              "      <td>NaN</td>\n",
              "      <td>NaN</td>\n",
              "      <td>15.006997</td>\n",
              "      <td>14.862</td>\n",
              "      <td>14.717003</td>\n",
              "      <td>NaN</td>\n",
              "      <td>NaN</td>\n",
              "      <td>NaN</td>\n",
              "      <td>NaN</td>\n",
              "      <td>14.9025</td>\n",
              "      <td>14.945</td>\n",
              "      <td>14.926667</td>\n",
              "    </tr>\n",
              "    <tr>\n",
              "      <th>2012-02-12</th>\n",
              "      <td>15.480000</td>\n",
              "      <td>14.95</td>\n",
              "      <td>15.930000</td>\n",
              "      <td>14.95</td>\n",
              "      <td>617290.0</td>\n",
              "      <td>0.0396</td>\n",
              "      <td>NaN</td>\n",
              "      <td>NaN</td>\n",
              "      <td>NaN</td>\n",
              "      <td>NaN</td>\n",
              "      <td>NaN</td>\n",
              "      <td>NaN</td>\n",
              "      <td>NaN</td>\n",
              "      <td>NaN</td>\n",
              "      <td>15.500836</td>\n",
              "      <td>14.986</td>\n",
              "      <td>14.471164</td>\n",
              "      <td>NaN</td>\n",
              "      <td>NaN</td>\n",
              "      <td>NaN</td>\n",
              "      <td>NaN</td>\n",
              "      <td>15.3275</td>\n",
              "      <td>15.440</td>\n",
              "      <td>15.453333</td>\n",
              "    </tr>\n",
              "    <tr>\n",
              "      <th>2012-02-13</th>\n",
              "      <td>16.889999</td>\n",
              "      <td>15.93</td>\n",
              "      <td>17.020000</td>\n",
              "      <td>15.93</td>\n",
              "      <td>1160000.0</td>\n",
              "      <td>0.0911</td>\n",
              "      <td>NaN</td>\n",
              "      <td>NaN</td>\n",
              "      <td>NaN</td>\n",
              "      <td>NaN</td>\n",
              "      <td>NaN</td>\n",
              "      <td>NaN</td>\n",
              "      <td>NaN</td>\n",
              "      <td>NaN</td>\n",
              "      <td>16.956279</td>\n",
              "      <td>15.418</td>\n",
              "      <td>13.879721</td>\n",
              "      <td>NaN</td>\n",
              "      <td>NaN</td>\n",
              "      <td>NaN</td>\n",
              "      <td>NaN</td>\n",
              "      <td>16.4425</td>\n",
              "      <td>16.475</td>\n",
              "      <td>16.613333</td>\n",
              "    </tr>\n",
              "    <tr>\n",
              "      <th>2012-02-14</th>\n",
              "      <td>16.969999</td>\n",
              "      <td>17.75</td>\n",
              "      <td>18.500000</td>\n",
              "      <td>16.40</td>\n",
              "      <td>1080000.0</td>\n",
              "      <td>0.0047</td>\n",
              "      <td>NaN</td>\n",
              "      <td>NaN</td>\n",
              "      <td>NaN</td>\n",
              "      <td>NaN</td>\n",
              "      <td>NaN</td>\n",
              "      <td>NaN</td>\n",
              "      <td>73.784981</td>\n",
              "      <td>72.297587</td>\n",
              "      <td>17.683499</td>\n",
              "      <td>15.822</td>\n",
              "      <td>13.960500</td>\n",
              "      <td>NaN</td>\n",
              "      <td>NaN</td>\n",
              "      <td>NaN</td>\n",
              "      <td>NaN</td>\n",
              "      <td>17.4050</td>\n",
              "      <td>17.450</td>\n",
              "      <td>17.290000</td>\n",
              "    </tr>\n",
              "    <tr>\n",
              "      <th>2012-02-15</th>\n",
              "      <td>16.100000</td>\n",
              "      <td>16.40</td>\n",
              "      <td>16.500000</td>\n",
              "      <td>15.58</td>\n",
              "      <td>867550.0</td>\n",
              "      <td>-0.0513</td>\n",
              "      <td>NaN</td>\n",
              "      <td>NaN</td>\n",
              "      <td>NaN</td>\n",
              "      <td>NaN</td>\n",
              "      <td>NaN</td>\n",
              "      <td>NaN</td>\n",
              "      <td>62.726759</td>\n",
              "      <td>70.862089</td>\n",
              "      <td>17.671918</td>\n",
              "      <td>16.066</td>\n",
              "      <td>14.460081</td>\n",
              "      <td>NaN</td>\n",
              "      <td>15.471000</td>\n",
              "      <td>NaN</td>\n",
              "      <td>15.471</td>\n",
              "      <td>16.1450</td>\n",
              "      <td>16.040</td>\n",
              "      <td>16.060000</td>\n",
              "    </tr>\n",
              "    <tr>\n",
              "      <th>2012-02-16</th>\n",
              "      <td>15.900000</td>\n",
              "      <td>15.99</td>\n",
              "      <td>16.000000</td>\n",
              "      <td>15.75</td>\n",
              "      <td>447830.0</td>\n",
              "      <td>-0.0124</td>\n",
              "      <td>NaN</td>\n",
              "      <td>NaN</td>\n",
              "      <td>NaN</td>\n",
              "      <td>0.940000</td>\n",
              "      <td>6.283420</td>\n",
              "      <td>NaN</td>\n",
              "      <td>40.181442</td>\n",
              "      <td>58.897727</td>\n",
              "      <td>17.421873</td>\n",
              "      <td>16.268</td>\n",
              "      <td>15.114126</td>\n",
              "      <td>NaN</td>\n",
              "      <td>15.549000</td>\n",
              "      <td>NaN</td>\n",
              "      <td>15.565</td>\n",
              "      <td>15.9100</td>\n",
              "      <td>15.875</td>\n",
              "      <td>15.883333</td>\n",
              "    </tr>\n",
              "    <tr>\n",
              "      <th>2012-02-19</th>\n",
              "      <td>15.760000</td>\n",
              "      <td>15.80</td>\n",
              "      <td>15.980000</td>\n",
              "      <td>15.60</td>\n",
              "      <td>636710.0</td>\n",
              "      <td>-0.0088</td>\n",
              "      <td>NaN</td>\n",
              "      <td>NaN</td>\n",
              "      <td>NaN</td>\n",
              "      <td>0.900001</td>\n",
              "      <td>6.056532</td>\n",
              "      <td>NaN</td>\n",
              "      <td>22.686698</td>\n",
              "      <td>41.864966</td>\n",
              "      <td>17.338186</td>\n",
              "      <td>16.324</td>\n",
              "      <td>15.309813</td>\n",
              "      <td>NaN</td>\n",
              "      <td>15.587363</td>\n",
              "      <td>NaN</td>\n",
              "      <td>15.655</td>\n",
              "      <td>15.7850</td>\n",
              "      <td>15.790</td>\n",
              "      <td>15.780000</td>\n",
              "    </tr>\n",
              "    <tr>\n",
              "      <th>2012-02-20</th>\n",
              "      <td>16.000000</td>\n",
              "      <td>15.90</td>\n",
              "      <td>16.250000</td>\n",
              "      <td>15.60</td>\n",
              "      <td>792370.0</td>\n",
              "      <td>0.0152</td>\n",
              "      <td>NaN</td>\n",
              "      <td>NaN</td>\n",
              "      <td>NaN</td>\n",
              "      <td>1.270000</td>\n",
              "      <td>8.621864</td>\n",
              "      <td>NaN</td>\n",
              "      <td>15.769505</td>\n",
              "      <td>26.212548</td>\n",
              "      <td>17.000128</td>\n",
              "      <td>16.146</td>\n",
              "      <td>15.291872</td>\n",
              "      <td>NaN</td>\n",
              "      <td>15.662388</td>\n",
              "      <td>NaN</td>\n",
              "      <td>15.782</td>\n",
              "      <td>15.9375</td>\n",
              "      <td>15.925</td>\n",
              "      <td>15.950000</td>\n",
              "    </tr>\n",
              "    <tr>\n",
              "      <th>2012-02-21</th>\n",
              "      <td>15.540000</td>\n",
              "      <td>15.62</td>\n",
              "      <td>15.940000</td>\n",
              "      <td>15.41</td>\n",
              "      <td>227140.0</td>\n",
              "      <td>-0.0288</td>\n",
              "      <td>NaN</td>\n",
              "      <td>NaN</td>\n",
              "      <td>NaN</td>\n",
              "      <td>0.590000</td>\n",
              "      <td>3.946489</td>\n",
              "      <td>NaN</td>\n",
              "      <td>10.824857</td>\n",
              "      <td>16.427020</td>\n",
              "      <td>16.251101</td>\n",
              "      <td>15.860</td>\n",
              "      <td>15.468899</td>\n",
              "      <td>NaN</td>\n",
              "      <td>15.640136</td>\n",
              "      <td>NaN</td>\n",
              "      <td>15.841</td>\n",
              "      <td>15.6275</td>\n",
              "      <td>15.675</td>\n",
              "      <td>15.630000</td>\n",
              "    </tr>\n",
              "    <tr>\n",
              "      <th>2012-02-22</th>\n",
              "      <td>15.660000</td>\n",
              "      <td>15.41</td>\n",
              "      <td>15.790000</td>\n",
              "      <td>15.41</td>\n",
              "      <td>97190.0</td>\n",
              "      <td>0.0077</td>\n",
              "      <td>NaN</td>\n",
              "      <td>NaN</td>\n",
              "      <td>NaN</td>\n",
              "      <td>0.780000</td>\n",
              "      <td>5.241934</td>\n",
              "      <td>57.543104</td>\n",
              "      <td>18.690693</td>\n",
              "      <td>15.095018</td>\n",
              "      <td>16.100487</td>\n",
              "      <td>15.772</td>\n",
              "      <td>15.443513</td>\n",
              "      <td>NaN</td>\n",
              "      <td>15.643748</td>\n",
              "      <td>NaN</td>\n",
              "      <td>15.919</td>\n",
              "      <td>15.5675</td>\n",
              "      <td>15.600</td>\n",
              "      <td>15.620000</td>\n",
              "    </tr>\n",
              "    <tr>\n",
              "      <th>2012-02-23</th>\n",
              "      <td>16.000000</td>\n",
              "      <td>16.00</td>\n",
              "      <td>16.219999</td>\n",
              "      <td>15.91</td>\n",
              "      <td>506540.0</td>\n",
              "      <td>0.0217</td>\n",
              "      <td>NaN</td>\n",
              "      <td>NaN</td>\n",
              "      <td>NaN</td>\n",
              "      <td>1.110000</td>\n",
              "      <td>7.454665</td>\n",
              "      <td>60.648435</td>\n",
              "      <td>37.308871</td>\n",
              "      <td>22.274807</td>\n",
              "      <td>16.159129</td>\n",
              "      <td>15.792</td>\n",
              "      <td>15.424871</td>\n",
              "      <td>NaN</td>\n",
              "      <td>15.708521</td>\n",
              "      <td>NaN</td>\n",
              "      <td>16.030</td>\n",
              "      <td>16.0325</td>\n",
              "      <td>16.065</td>\n",
              "      <td>16.043333</td>\n",
              "    </tr>\n",
              "    <tr>\n",
              "      <th>2012-02-26</th>\n",
              "      <td>15.970000</td>\n",
              "      <td>16.15</td>\n",
              "      <td>16.150000</td>\n",
              "      <td>15.89</td>\n",
              "      <td>403480.0</td>\n",
              "      <td>-0.0019</td>\n",
              "      <td>NaN</td>\n",
              "      <td>NaN</td>\n",
              "      <td>NaN</td>\n",
              "      <td>0.490001</td>\n",
              "      <td>3.165379</td>\n",
              "      <td>60.229840</td>\n",
              "      <td>55.555568</td>\n",
              "      <td>37.185044</td>\n",
              "      <td>16.224200</td>\n",
              "      <td>15.834</td>\n",
              "      <td>15.443800</td>\n",
              "      <td>NaN</td>\n",
              "      <td>15.756062</td>\n",
              "      <td>NaN</td>\n",
              "      <td>16.079</td>\n",
              "      <td>16.0400</td>\n",
              "      <td>16.020</td>\n",
              "      <td>16.003333</td>\n",
              "    </tr>\n",
              "    <tr>\n",
              "      <th>2012-02-27</th>\n",
              "      <td>15.820000</td>\n",
              "      <td>16.00</td>\n",
              "      <td>16.000000</td>\n",
              "      <td>15.67</td>\n",
              "      <td>259780.0</td>\n",
              "      <td>-0.0094</td>\n",
              "      <td>NaN</td>\n",
              "      <td>NaN</td>\n",
              "      <td>NaN</td>\n",
              "      <td>-1.070000</td>\n",
              "      <td>-6.335108</td>\n",
              "      <td>58.071605</td>\n",
              "      <td>62.507368</td>\n",
              "      <td>51.790602</td>\n",
              "      <td>16.151814</td>\n",
              "      <td>15.798</td>\n",
              "      <td>15.444186</td>\n",
              "      <td>NaN</td>\n",
              "      <td>15.767687</td>\n",
              "      <td>NaN</td>\n",
              "      <td>15.972</td>\n",
              "      <td>15.8725</td>\n",
              "      <td>15.835</td>\n",
              "      <td>15.830000</td>\n",
              "    </tr>\n",
              "    <tr>\n",
              "      <th>2012-02-28</th>\n",
              "      <td>15.940000</td>\n",
              "      <td>15.71</td>\n",
              "      <td>15.990000</td>\n",
              "      <td>15.71</td>\n",
              "      <td>69680.0</td>\n",
              "      <td>0.0076</td>\n",
              "      <td>NaN</td>\n",
              "      <td>NaN</td>\n",
              "      <td>NaN</td>\n",
              "      <td>-1.030000</td>\n",
              "      <td>-6.069533</td>\n",
              "      <td>59.327239</td>\n",
              "      <td>60.905371</td>\n",
              "      <td>59.656102</td>\n",
              "      <td>16.127928</td>\n",
              "      <td>15.878</td>\n",
              "      <td>15.628072</td>\n",
              "      <td>NaN</td>\n",
              "      <td>15.799017</td>\n",
              "      <td>NaN</td>\n",
              "      <td>15.869</td>\n",
              "      <td>15.8375</td>\n",
              "      <td>15.850</td>\n",
              "      <td>15.880000</td>\n",
              "    </tr>\n",
              "    <tr>\n",
              "      <th>2012-02-29</th>\n",
              "      <td>15.990000</td>\n",
              "      <td>15.96</td>\n",
              "      <td>16.000000</td>\n",
              "      <td>15.94</td>\n",
              "      <td>1120000.0</td>\n",
              "      <td>0.0031</td>\n",
              "      <td>NaN</td>\n",
              "      <td>NaN</td>\n",
              "      <td>NaN</td>\n",
              "      <td>-0.110001</td>\n",
              "      <td>-0.683234</td>\n",
              "      <td>59.866548</td>\n",
              "      <td>58.077084</td>\n",
              "      <td>60.496607</td>\n",
              "      <td>16.074599</td>\n",
              "      <td>15.944</td>\n",
              "      <td>15.813401</td>\n",
              "      <td>NaN</td>\n",
              "      <td>15.833741</td>\n",
              "      <td>NaN</td>\n",
              "      <td>15.858</td>\n",
              "      <td>15.9725</td>\n",
              "      <td>15.970</td>\n",
              "      <td>15.976666</td>\n",
              "    </tr>\n",
              "    <tr>\n",
              "      <th>2012-03-01</th>\n",
              "      <td>16.129999</td>\n",
              "      <td>16.01</td>\n",
              "      <td>16.350000</td>\n",
              "      <td>15.96</td>\n",
              "      <td>556000.0</td>\n",
              "      <td>0.0088</td>\n",
              "      <td>NaN</td>\n",
              "      <td>NaN</td>\n",
              "      <td>NaN</td>\n",
              "      <td>0.230000</td>\n",
              "      <td>1.446538</td>\n",
              "      <td>61.409502</td>\n",
              "      <td>63.753615</td>\n",
              "      <td>60.912023</td>\n",
              "      <td>16.168796</td>\n",
              "      <td>15.970</td>\n",
              "      <td>15.771204</td>\n",
              "      <td>NaN</td>\n",
              "      <td>15.887606</td>\n",
              "      <td>NaN</td>\n",
              "      <td>15.881</td>\n",
              "      <td>16.1125</td>\n",
              "      <td>16.155</td>\n",
              "      <td>16.146667</td>\n",
              "    </tr>\n",
              "    <tr>\n",
              "      <th>2012-03-04</th>\n",
              "      <td>15.810000</td>\n",
              "      <td>16.40</td>\n",
              "      <td>16.400000</td>\n",
              "      <td>15.59</td>\n",
              "      <td>378080.0</td>\n",
              "      <td>-0.0198</td>\n",
              "      <td>NaN</td>\n",
              "      <td>NaN</td>\n",
              "      <td>NaN</td>\n",
              "      <td>0.050000</td>\n",
              "      <td>0.317260</td>\n",
              "      <td>56.100420</td>\n",
              "      <td>50.996427</td>\n",
              "      <td>57.609042</td>\n",
              "      <td>16.174439</td>\n",
              "      <td>15.938</td>\n",
              "      <td>15.701560</td>\n",
              "      <td>NaN</td>\n",
              "      <td>15.873496</td>\n",
              "      <td>NaN</td>\n",
              "      <td>15.886</td>\n",
              "      <td>16.0500</td>\n",
              "      <td>15.995</td>\n",
              "      <td>15.933333</td>\n",
              "    </tr>\n",
              "    <tr>\n",
              "      <th>2012-03-05</th>\n",
              "      <td>15.730000</td>\n",
              "      <td>15.84</td>\n",
              "      <td>15.960000</td>\n",
              "      <td>15.60</td>\n",
              "      <td>1200000.0</td>\n",
              "      <td>-0.0051</td>\n",
              "      <td>NaN</td>\n",
              "      <td>NaN</td>\n",
              "      <td>NaN</td>\n",
              "      <td>-0.270000</td>\n",
              "      <td>-1.687503</td>\n",
              "      <td>54.824309</td>\n",
              "      <td>37.363775</td>\n",
              "      <td>50.704606</td>\n",
              "      <td>16.199427</td>\n",
              "      <td>15.920</td>\n",
              "      <td>15.640572</td>\n",
              "      <td>NaN</td>\n",
              "      <td>15.847406</td>\n",
              "      <td>NaN</td>\n",
              "      <td>15.859</td>\n",
              "      <td>15.7825</td>\n",
              "      <td>15.780</td>\n",
              "      <td>15.763333</td>\n",
              "    </tr>\n",
              "    <tr>\n",
              "      <th>2012-03-06</th>\n",
              "      <td>15.800000</td>\n",
              "      <td>15.80</td>\n",
              "      <td>15.900000</td>\n",
              "      <td>15.70</td>\n",
              "      <td>478280.0</td>\n",
              "      <td>0.0045</td>\n",
              "      <td>NaN</td>\n",
              "      <td>NaN</td>\n",
              "      <td>NaN</td>\n",
              "      <td>0.260000</td>\n",
              "      <td>1.673103</td>\n",
              "      <td>55.772310</td>\n",
              "      <td>23.456793</td>\n",
              "      <td>37.272332</td>\n",
              "      <td>16.185502</td>\n",
              "      <td>15.892</td>\n",
              "      <td>15.598497</td>\n",
              "      <td>NaN</td>\n",
              "      <td>15.838787</td>\n",
              "      <td>NaN</td>\n",
              "      <td>15.885</td>\n",
              "      <td>15.8000</td>\n",
              "      <td>15.800</td>\n",
              "      <td>15.800000</td>\n",
              "    </tr>\n",
              "    <tr>\n",
              "      <th>2012-03-07</th>\n",
              "      <td>15.750000</td>\n",
              "      <td>15.89</td>\n",
              "      <td>15.900000</td>\n",
              "      <td>15.60</td>\n",
              "      <td>1120000.0</td>\n",
              "      <td>-0.0032</td>\n",
              "      <td>NaN</td>\n",
              "      <td>NaN</td>\n",
              "      <td>NaN</td>\n",
              "      <td>0.090000</td>\n",
              "      <td>0.574714</td>\n",
              "      <td>54.886333</td>\n",
              "      <td>20.987638</td>\n",
              "      <td>27.269402</td>\n",
              "      <td>16.136191</td>\n",
              "      <td>15.844</td>\n",
              "      <td>15.551809</td>\n",
              "      <td>NaN</td>\n",
              "      <td>15.822644</td>\n",
              "      <td>NaN</td>\n",
              "      <td>15.894</td>\n",
              "      <td>15.7850</td>\n",
              "      <td>15.750</td>\n",
              "      <td>15.750000</td>\n",
              "    </tr>\n",
              "    <tr>\n",
              "      <th>2012-03-08</th>\n",
              "      <td>15.810000</td>\n",
              "      <td>15.79</td>\n",
              "      <td>15.850000</td>\n",
              "      <td>15.75</td>\n",
              "      <td>649940.0</td>\n",
              "      <td>0.0038</td>\n",
              "      <td>NaN</td>\n",
              "      <td>NaN</td>\n",
              "      <td>NaN</td>\n",
              "      <td>-0.190000</td>\n",
              "      <td>-1.187497</td>\n",
              "      <td>55.793848</td>\n",
              "      <td>24.279858</td>\n",
              "      <td>22.908096</td>\n",
              "      <td>15.846934</td>\n",
              "      <td>15.780</td>\n",
              "      <td>15.713067</td>\n",
              "      <td>NaN</td>\n",
              "      <td>15.820345</td>\n",
              "      <td>NaN</td>\n",
              "      <td>15.875</td>\n",
              "      <td>15.8000</td>\n",
              "      <td>15.800</td>\n",
              "      <td>15.803334</td>\n",
              "    </tr>\n",
              "    <tr>\n",
              "      <th>2012-03-11</th>\n",
              "      <td>15.740000</td>\n",
              "      <td>15.89</td>\n",
              "      <td>15.890000</td>\n",
              "      <td>15.62</td>\n",
              "      <td>49400.0</td>\n",
              "      <td>-0.0044</td>\n",
              "      <td>NaN</td>\n",
              "      <td>NaN</td>\n",
              "      <td>NaN</td>\n",
              "      <td>-0.230000</td>\n",
              "      <td>-1.440203</td>\n",
              "      <td>54.418463</td>\n",
              "      <td>28.600794</td>\n",
              "      <td>24.622763</td>\n",
              "      <td>15.831239</td>\n",
              "      <td>15.766</td>\n",
              "      <td>15.700761</td>\n",
              "      <td>NaN</td>\n",
              "      <td>15.805737</td>\n",
              "      <td>NaN</td>\n",
              "      <td>15.852</td>\n",
              "      <td>15.7850</td>\n",
              "      <td>15.755</td>\n",
              "      <td>15.750000</td>\n",
              "    </tr>\n",
              "    <tr>\n",
              "      <th>2012-03-12</th>\n",
              "      <td>15.540000</td>\n",
              "      <td>15.65</td>\n",
              "      <td>15.800000</td>\n",
              "      <td>15.20</td>\n",
              "      <td>320350.0</td>\n",
              "      <td>-0.0127</td>\n",
              "      <td>NaN</td>\n",
              "      <td>NaN</td>\n",
              "      <td>NaN</td>\n",
              "      <td>-0.280000</td>\n",
              "      <td>-1.769910</td>\n",
              "      <td>50.581878</td>\n",
              "      <td>38.206922</td>\n",
              "      <td>30.362524</td>\n",
              "      <td>15.923714</td>\n",
              "      <td>15.728</td>\n",
              "      <td>15.532286</td>\n",
              "      <td>NaN</td>\n",
              "      <td>15.757421</td>\n",
              "      <td>NaN</td>\n",
              "      <td>15.824</td>\n",
              "      <td>15.5475</td>\n",
              "      <td>15.500</td>\n",
              "      <td>15.513333</td>\n",
              "    </tr>\n",
              "    <tr>\n",
              "      <th>2012-03-13</th>\n",
              "      <td>14.950000</td>\n",
              "      <td>15.50</td>\n",
              "      <td>15.500000</td>\n",
              "      <td>14.62</td>\n",
              "      <td>547940.0</td>\n",
              "      <td>-0.0380</td>\n",
              "      <td>NaN</td>\n",
              "      <td>NaN</td>\n",
              "      <td>NaN</td>\n",
              "      <td>-0.990000</td>\n",
              "      <td>-6.210789</td>\n",
              "      <td>41.325798</td>\n",
              "      <td>37.747156</td>\n",
              "      <td>34.851624</td>\n",
              "      <td>16.192653</td>\n",
              "      <td>15.558</td>\n",
              "      <td>14.923347</td>\n",
              "      <td>NaN</td>\n",
              "      <td>15.610617</td>\n",
              "      <td>NaN</td>\n",
              "      <td>15.725</td>\n",
              "      <td>15.1425</td>\n",
              "      <td>15.060</td>\n",
              "      <td>15.023333</td>\n",
              "    </tr>\n",
              "    <tr>\n",
              "      <th>2012-03-14</th>\n",
              "      <td>15.260000</td>\n",
              "      <td>14.50</td>\n",
              "      <td>15.400000</td>\n",
              "      <td>14.50</td>\n",
              "      <td>1150000.0</td>\n",
              "      <td>0.0207</td>\n",
              "      <td>NaN</td>\n",
              "      <td>NaN</td>\n",
              "      <td>NaN</td>\n",
              "      <td>-0.730000</td>\n",
              "      <td>-4.565351</td>\n",
              "      <td>46.831140</td>\n",
              "      <td>43.009658</td>\n",
              "      <td>39.654579</td>\n",
              "      <td>16.097119</td>\n",
              "      <td>15.460</td>\n",
              "      <td>14.822881</td>\n",
              "      <td>15.660333</td>\n",
              "      <td>15.546869</td>\n",
              "      <td>15.660333</td>\n",
              "      <td>15.652</td>\n",
              "      <td>14.9150</td>\n",
              "      <td>14.950</td>\n",
              "      <td>15.053333</td>\n",
              "    </tr>\n",
              "    <tr>\n",
              "      <th>2012-03-15</th>\n",
              "      <td>15.060000</td>\n",
              "      <td>15.10</td>\n",
              "      <td>15.300000</td>\n",
              "      <td>14.80</td>\n",
              "      <td>842350.0</td>\n",
              "      <td>-0.0131</td>\n",
              "      <td>NaN</td>\n",
              "      <td>NaN</td>\n",
              "      <td>NaN</td>\n",
              "      <td>-1.069999</td>\n",
              "      <td>-6.633595</td>\n",
              "      <td>43.965007</td>\n",
              "      <td>40.248434</td>\n",
              "      <td>40.335083</td>\n",
              "      <td>15.898149</td>\n",
              "      <td>15.310</td>\n",
              "      <td>14.721851</td>\n",
              "      <td>15.621602</td>\n",
              "      <td>15.458347</td>\n",
              "      <td>15.663667</td>\n",
              "      <td>15.545</td>\n",
              "      <td>15.0650</td>\n",
              "      <td>15.050</td>\n",
              "      <td>15.053334</td>\n",
              "    </tr>\n",
              "    <tr>\n",
              "      <th>2012-03-18</th>\n",
              "      <td>14.980000</td>\n",
              "      <td>15.31</td>\n",
              "      <td>15.310000</td>\n",
              "      <td>14.90</td>\n",
              "      <td>65930.0</td>\n",
              "      <td>-0.0053</td>\n",
              "      <td>NaN</td>\n",
              "      <td>NaN</td>\n",
              "      <td>NaN</td>\n",
              "      <td>-0.830001</td>\n",
              "      <td>-5.249847</td>\n",
              "      <td>42.835687</td>\n",
              "      <td>43.962363</td>\n",
              "      <td>42.406818</td>\n",
              "      <td>15.596981</td>\n",
              "      <td>15.158</td>\n",
              "      <td>14.719019</td>\n",
              "      <td>15.580208</td>\n",
              "      <td>15.371375</td>\n",
              "      <td>15.667667</td>\n",
              "      <td>15.462</td>\n",
              "      <td>15.1250</td>\n",
              "      <td>15.105</td>\n",
              "      <td>15.063333</td>\n",
              "    </tr>\n",
              "    <tr>\n",
              "      <th>2012-03-19</th>\n",
              "      <td>14.860000</td>\n",
              "      <td>14.82</td>\n",
              "      <td>15.000000</td>\n",
              "      <td>14.72</td>\n",
              "      <td>308550.0</td>\n",
              "      <td>-0.0080</td>\n",
              "      <td>NaN</td>\n",
              "      <td>NaN</td>\n",
              "      <td>NaN</td>\n",
              "      <td>-0.870000</td>\n",
              "      <td>-5.530832</td>\n",
              "      <td>41.129094</td>\n",
              "      <td>37.736931</td>\n",
              "      <td>40.649242</td>\n",
              "      <td>15.292230</td>\n",
              "      <td>15.022</td>\n",
              "      <td>14.751770</td>\n",
              "      <td>15.533743</td>\n",
              "      <td>15.278397</td>\n",
              "      <td>15.672000</td>\n",
              "      <td>15.375</td>\n",
              "      <td>14.8500</td>\n",
              "      <td>14.860</td>\n",
              "      <td>14.860000</td>\n",
              "    </tr>\n",
              "    <tr>\n",
              "      <th>2012-03-20</th>\n",
              "      <td>14.900000</td>\n",
              "      <td>14.76</td>\n",
              "      <td>14.970000</td>\n",
              "      <td>14.75</td>\n",
              "      <td>765580.0</td>\n",
              "      <td>0.0027</td>\n",
              "      <td>-0.153998</td>\n",
              "      <td>0.001858</td>\n",
              "      <td>-0.155856</td>\n",
              "      <td>-0.900001</td>\n",
              "      <td>-5.696206</td>\n",
              "      <td>41.959177</td>\n",
              "      <td>39.122474</td>\n",
              "      <td>40.273923</td>\n",
              "      <td>15.295521</td>\n",
              "      <td>15.012</td>\n",
              "      <td>14.728479</td>\n",
              "      <td>15.492857</td>\n",
              "      <td>15.209598</td>\n",
              "      <td>15.670333</td>\n",
              "      <td>15.285</td>\n",
              "      <td>14.8450</td>\n",
              "      <td>14.860</td>\n",
              "      <td>14.873333</td>\n",
              "    </tr>\n",
              "    <tr>\n",
              "      <th>2012-03-21</th>\n",
              "      <td>14.970000</td>\n",
              "      <td>14.96</td>\n",
              "      <td>15.070000</td>\n",
              "      <td>14.80</td>\n",
              "      <td>515910.0</td>\n",
              "      <td>0.0047</td>\n",
              "      <td>-0.167381</td>\n",
              "      <td>-0.031989</td>\n",
              "      <td>-0.135391</td>\n",
              "      <td>-0.780000</td>\n",
              "      <td>-4.952379</td>\n",
              "      <td>43.461596</td>\n",
              "      <td>40.939086</td>\n",
              "      <td>39.266164</td>\n",
              "      <td>15.092333</td>\n",
              "      <td>14.954</td>\n",
              "      <td>14.815666</td>\n",
              "      <td>15.459124</td>\n",
              "      <td>15.166035</td>\n",
              "      <td>15.673333</td>\n",
              "      <td>15.207</td>\n",
              "      <td>14.9500</td>\n",
              "      <td>14.935</td>\n",
              "      <td>14.946667</td>\n",
              "    </tr>\n",
              "  </tbody>\n",
              "</table>\n",
              "</div>"
            ],
            "text/plain": [
              "                Price   Open       High  ...  AVGPRICE  Median   TYPPRICE\n",
              "datetime                                 ...                             \n",
              "2012-02-01  14.960000  15.06  15.060000  ...   14.9200  14.830  14.873334\n",
              "2012-02-02  14.860000  14.85  15.000000  ...   14.8050  14.755  14.790000\n",
              "2012-02-06  14.730000  14.51  14.880000  ...   14.6575  14.695  14.706667\n",
              "2012-02-07  14.950000  14.72  15.050000  ...   14.8550  14.875  14.900000\n",
              "2012-02-08  14.880000  14.87  15.000000  ...   14.8875  14.900  14.893333\n",
              "2012-02-09  14.890000  14.83  15.090000  ...   14.9025  14.945  14.926667\n",
              "2012-02-12  15.480000  14.95  15.930000  ...   15.3275  15.440  15.453333\n",
              "2012-02-13  16.889999  15.93  17.020000  ...   16.4425  16.475  16.613333\n",
              "2012-02-14  16.969999  17.75  18.500000  ...   17.4050  17.450  17.290000\n",
              "2012-02-15  16.100000  16.40  16.500000  ...   16.1450  16.040  16.060000\n",
              "2012-02-16  15.900000  15.99  16.000000  ...   15.9100  15.875  15.883333\n",
              "2012-02-19  15.760000  15.80  15.980000  ...   15.7850  15.790  15.780000\n",
              "2012-02-20  16.000000  15.90  16.250000  ...   15.9375  15.925  15.950000\n",
              "2012-02-21  15.540000  15.62  15.940000  ...   15.6275  15.675  15.630000\n",
              "2012-02-22  15.660000  15.41  15.790000  ...   15.5675  15.600  15.620000\n",
              "2012-02-23  16.000000  16.00  16.219999  ...   16.0325  16.065  16.043333\n",
              "2012-02-26  15.970000  16.15  16.150000  ...   16.0400  16.020  16.003333\n",
              "2012-02-27  15.820000  16.00  16.000000  ...   15.8725  15.835  15.830000\n",
              "2012-02-28  15.940000  15.71  15.990000  ...   15.8375  15.850  15.880000\n",
              "2012-02-29  15.990000  15.96  16.000000  ...   15.9725  15.970  15.976666\n",
              "2012-03-01  16.129999  16.01  16.350000  ...   16.1125  16.155  16.146667\n",
              "2012-03-04  15.810000  16.40  16.400000  ...   16.0500  15.995  15.933333\n",
              "2012-03-05  15.730000  15.84  15.960000  ...   15.7825  15.780  15.763333\n",
              "2012-03-06  15.800000  15.80  15.900000  ...   15.8000  15.800  15.800000\n",
              "2012-03-07  15.750000  15.89  15.900000  ...   15.7850  15.750  15.750000\n",
              "2012-03-08  15.810000  15.79  15.850000  ...   15.8000  15.800  15.803334\n",
              "2012-03-11  15.740000  15.89  15.890000  ...   15.7850  15.755  15.750000\n",
              "2012-03-12  15.540000  15.65  15.800000  ...   15.5475  15.500  15.513333\n",
              "2012-03-13  14.950000  15.50  15.500000  ...   15.1425  15.060  15.023333\n",
              "2012-03-14  15.260000  14.50  15.400000  ...   14.9150  14.950  15.053333\n",
              "2012-03-15  15.060000  15.10  15.300000  ...   15.0650  15.050  15.053334\n",
              "2012-03-18  14.980000  15.31  15.310000  ...   15.1250  15.105  15.063333\n",
              "2012-03-19  14.860000  14.82  15.000000  ...   14.8500  14.860  14.860000\n",
              "2012-03-20  14.900000  14.76  14.970000  ...   14.8450  14.860  14.873333\n",
              "2012-03-21  14.970000  14.96  15.070000  ...   14.9500  14.935  14.946667\n",
              "\n",
              "[35 rows x 24 columns]"
            ]
          },
          "metadata": {},
          "execution_count": 28
        }
      ]
    },
    {
      "cell_type": "code",
      "metadata": {
        "id": "8T7zwbHG58Du"
      },
      "source": [
        "dataset=df.dropna(axis=0)"
      ],
      "execution_count": null,
      "outputs": []
    },
    {
      "cell_type": "code",
      "metadata": {
        "id": "CI58Akom7O9_",
        "colab": {
          "base_uri": "https://localhost:8080/",
          "height": 357
        },
        "outputId": "6ef4b0c0-d7d7-4adb-ef03-8f2d26754462"
      },
      "source": [
        "dataset.head()"
      ],
      "execution_count": null,
      "outputs": [
        {
          "output_type": "execute_result",
          "data": {
            "text/html": [
              "<div>\n",
              "<style scoped>\n",
              "    .dataframe tbody tr th:only-of-type {\n",
              "        vertical-align: middle;\n",
              "    }\n",
              "\n",
              "    .dataframe tbody tr th {\n",
              "        vertical-align: top;\n",
              "    }\n",
              "\n",
              "    .dataframe thead th {\n",
              "        text-align: right;\n",
              "    }\n",
              "</style>\n",
              "<table border=\"1\" class=\"dataframe\">\n",
              "  <thead>\n",
              "    <tr style=\"text-align: right;\">\n",
              "      <th></th>\n",
              "      <th>Price</th>\n",
              "      <th>Open</th>\n",
              "      <th>High</th>\n",
              "      <th>Low</th>\n",
              "      <th>Vol.</th>\n",
              "      <th>Change %</th>\n",
              "      <th>macd</th>\n",
              "      <th>macdsignal</th>\n",
              "      <th>macdhist</th>\n",
              "      <th>MOM</th>\n",
              "      <th>ROC</th>\n",
              "      <th>RSI</th>\n",
              "      <th>slowk</th>\n",
              "      <th>slowd</th>\n",
              "      <th>upperband</th>\n",
              "      <th>middleband</th>\n",
              "      <th>lowerband</th>\n",
              "      <th>EMA_30</th>\n",
              "      <th>EMA_10</th>\n",
              "      <th>SMA_30</th>\n",
              "      <th>SMA_10</th>\n",
              "      <th>AVGPRICE</th>\n",
              "      <th>Median</th>\n",
              "      <th>TYPPRICE</th>\n",
              "    </tr>\n",
              "    <tr>\n",
              "      <th>datetime</th>\n",
              "      <th></th>\n",
              "      <th></th>\n",
              "      <th></th>\n",
              "      <th></th>\n",
              "      <th></th>\n",
              "      <th></th>\n",
              "      <th></th>\n",
              "      <th></th>\n",
              "      <th></th>\n",
              "      <th></th>\n",
              "      <th></th>\n",
              "      <th></th>\n",
              "      <th></th>\n",
              "      <th></th>\n",
              "      <th></th>\n",
              "      <th></th>\n",
              "      <th></th>\n",
              "      <th></th>\n",
              "      <th></th>\n",
              "      <th></th>\n",
              "      <th></th>\n",
              "      <th></th>\n",
              "      <th></th>\n",
              "      <th></th>\n",
              "    </tr>\n",
              "  </thead>\n",
              "  <tbody>\n",
              "    <tr>\n",
              "      <th>2012-03-20</th>\n",
              "      <td>14.90</td>\n",
              "      <td>14.76</td>\n",
              "      <td>14.97</td>\n",
              "      <td>14.75</td>\n",
              "      <td>765580.0</td>\n",
              "      <td>0.0027</td>\n",
              "      <td>-0.153998</td>\n",
              "      <td>0.001858</td>\n",
              "      <td>-0.155856</td>\n",
              "      <td>-0.900001</td>\n",
              "      <td>-5.696206</td>\n",
              "      <td>41.959177</td>\n",
              "      <td>39.122474</td>\n",
              "      <td>40.273923</td>\n",
              "      <td>15.295521</td>\n",
              "      <td>15.012</td>\n",
              "      <td>14.728479</td>\n",
              "      <td>15.492857</td>\n",
              "      <td>15.209598</td>\n",
              "      <td>15.670333</td>\n",
              "      <td>15.285</td>\n",
              "      <td>14.8450</td>\n",
              "      <td>14.860</td>\n",
              "      <td>14.873333</td>\n",
              "    </tr>\n",
              "    <tr>\n",
              "      <th>2012-03-21</th>\n",
              "      <td>14.97</td>\n",
              "      <td>14.96</td>\n",
              "      <td>15.07</td>\n",
              "      <td>14.80</td>\n",
              "      <td>515910.0</td>\n",
              "      <td>0.0047</td>\n",
              "      <td>-0.167381</td>\n",
              "      <td>-0.031989</td>\n",
              "      <td>-0.135391</td>\n",
              "      <td>-0.780000</td>\n",
              "      <td>-4.952379</td>\n",
              "      <td>43.461596</td>\n",
              "      <td>40.939086</td>\n",
              "      <td>39.266164</td>\n",
              "      <td>15.092333</td>\n",
              "      <td>14.954</td>\n",
              "      <td>14.815666</td>\n",
              "      <td>15.459124</td>\n",
              "      <td>15.166035</td>\n",
              "      <td>15.673333</td>\n",
              "      <td>15.207</td>\n",
              "      <td>14.9500</td>\n",
              "      <td>14.935</td>\n",
              "      <td>14.946667</td>\n",
              "    </tr>\n",
              "    <tr>\n",
              "      <th>2012-03-22</th>\n",
              "      <td>15.00</td>\n",
              "      <td>15.00</td>\n",
              "      <td>15.00</td>\n",
              "      <td>14.92</td>\n",
              "      <td>334230.0</td>\n",
              "      <td>0.0020</td>\n",
              "      <td>-0.173565</td>\n",
              "      <td>-0.060304</td>\n",
              "      <td>-0.113260</td>\n",
              "      <td>-0.810000</td>\n",
              "      <td>-5.123342</td>\n",
              "      <td>44.129084</td>\n",
              "      <td>44.758287</td>\n",
              "      <td>41.606616</td>\n",
              "      <td>15.048132</td>\n",
              "      <td>14.942</td>\n",
              "      <td>14.835868</td>\n",
              "      <td>15.429503</td>\n",
              "      <td>15.135847</td>\n",
              "      <td>15.677000</td>\n",
              "      <td>15.126</td>\n",
              "      <td>14.9800</td>\n",
              "      <td>14.960</td>\n",
              "      <td>14.973333</td>\n",
              "    </tr>\n",
              "    <tr>\n",
              "      <th>2012-03-25</th>\n",
              "      <td>14.61</td>\n",
              "      <td>14.96</td>\n",
              "      <td>14.96</td>\n",
              "      <td>14.51</td>\n",
              "      <td>159760.0</td>\n",
              "      <td>-0.0260</td>\n",
              "      <td>-0.207543</td>\n",
              "      <td>-0.089752</td>\n",
              "      <td>-0.117791</td>\n",
              "      <td>-1.130000</td>\n",
              "      <td>-7.179162</td>\n",
              "      <td>37.869794</td>\n",
              "      <td>35.895833</td>\n",
              "      <td>40.531068</td>\n",
              "      <td>15.144377</td>\n",
              "      <td>14.868</td>\n",
              "      <td>14.591623</td>\n",
              "      <td>15.376632</td>\n",
              "      <td>15.040238</td>\n",
              "      <td>15.648000</td>\n",
              "      <td>15.013</td>\n",
              "      <td>14.7600</td>\n",
              "      <td>14.735</td>\n",
              "      <td>14.693333</td>\n",
              "    </tr>\n",
              "    <tr>\n",
              "      <th>2012-03-26</th>\n",
              "      <td>14.11</td>\n",
              "      <td>14.50</td>\n",
              "      <td>14.50</td>\n",
              "      <td>13.92</td>\n",
              "      <td>563330.0</td>\n",
              "      <td>-0.0342</td>\n",
              "      <td>-0.271685</td>\n",
              "      <td>-0.126139</td>\n",
              "      <td>-0.145547</td>\n",
              "      <td>-1.430000</td>\n",
              "      <td>-9.202061</td>\n",
              "      <td>31.668082</td>\n",
              "      <td>27.278778</td>\n",
              "      <td>35.977633</td>\n",
              "      <td>15.385820</td>\n",
              "      <td>14.718</td>\n",
              "      <td>14.050179</td>\n",
              "      <td>15.294914</td>\n",
              "      <td>14.871104</td>\n",
              "      <td>15.555333</td>\n",
              "      <td>14.870</td>\n",
              "      <td>14.2575</td>\n",
              "      <td>14.210</td>\n",
              "      <td>14.176667</td>\n",
              "    </tr>\n",
              "  </tbody>\n",
              "</table>\n",
              "</div>"
            ],
            "text/plain": [
              "            Price   Open   High    Low  ...  SMA_10  AVGPRICE  Median   TYPPRICE\n",
              "datetime                                ...                                     \n",
              "2012-03-20  14.90  14.76  14.97  14.75  ...  15.285   14.8450  14.860  14.873333\n",
              "2012-03-21  14.97  14.96  15.07  14.80  ...  15.207   14.9500  14.935  14.946667\n",
              "2012-03-22  15.00  15.00  15.00  14.92  ...  15.126   14.9800  14.960  14.973333\n",
              "2012-03-25  14.61  14.96  14.96  14.51  ...  15.013   14.7600  14.735  14.693333\n",
              "2012-03-26  14.11  14.50  14.50  13.92  ...  14.870   14.2575  14.210  14.176667\n",
              "\n",
              "[5 rows x 24 columns]"
            ]
          },
          "metadata": {},
          "execution_count": 30
        }
      ]
    },
    {
      "cell_type": "code",
      "metadata": {
        "id": "qqLBJR3c6LnD",
        "colab": {
          "base_uri": "https://localhost:8080/"
        },
        "outputId": "8b7785f4-f3bc-4d4c-a16a-d1dcc5a3e310"
      },
      "source": [
        "dataset.drop(['Open','High','Low','Vol.','Change %'],axis=1,inplace=True)"
      ],
      "execution_count": null,
      "outputs": [
        {
          "output_type": "stream",
          "text": [
            "/usr/local/lib/python3.7/dist-packages/pandas/core/frame.py:4174: SettingWithCopyWarning: \n",
            "A value is trying to be set on a copy of a slice from a DataFrame\n",
            "\n",
            "See the caveats in the documentation: https://pandas.pydata.org/pandas-docs/stable/user_guide/indexing.html#returning-a-view-versus-a-copy\n",
            "  errors=errors,\n"
          ],
          "name": "stderr"
        }
      ]
    },
    {
      "cell_type": "code",
      "metadata": {
        "id": "a8alJyTa7ndp",
        "colab": {
          "base_uri": "https://localhost:8080/",
          "height": 340
        },
        "outputId": "4835ef01-c3f5-4703-f5e7-461124a8e1e8"
      },
      "source": [
        "dataset.head()"
      ],
      "execution_count": null,
      "outputs": [
        {
          "output_type": "execute_result",
          "data": {
            "text/html": [
              "<div>\n",
              "<style scoped>\n",
              "    .dataframe tbody tr th:only-of-type {\n",
              "        vertical-align: middle;\n",
              "    }\n",
              "\n",
              "    .dataframe tbody tr th {\n",
              "        vertical-align: top;\n",
              "    }\n",
              "\n",
              "    .dataframe thead th {\n",
              "        text-align: right;\n",
              "    }\n",
              "</style>\n",
              "<table border=\"1\" class=\"dataframe\">\n",
              "  <thead>\n",
              "    <tr style=\"text-align: right;\">\n",
              "      <th></th>\n",
              "      <th>Price</th>\n",
              "      <th>macd</th>\n",
              "      <th>macdsignal</th>\n",
              "      <th>macdhist</th>\n",
              "      <th>MOM</th>\n",
              "      <th>ROC</th>\n",
              "      <th>RSI</th>\n",
              "      <th>slowk</th>\n",
              "      <th>slowd</th>\n",
              "      <th>upperband</th>\n",
              "      <th>middleband</th>\n",
              "      <th>lowerband</th>\n",
              "      <th>EMA_30</th>\n",
              "      <th>EMA_10</th>\n",
              "      <th>SMA_30</th>\n",
              "      <th>SMA_10</th>\n",
              "      <th>AVGPRICE</th>\n",
              "      <th>Median</th>\n",
              "      <th>TYPPRICE</th>\n",
              "    </tr>\n",
              "    <tr>\n",
              "      <th>datetime</th>\n",
              "      <th></th>\n",
              "      <th></th>\n",
              "      <th></th>\n",
              "      <th></th>\n",
              "      <th></th>\n",
              "      <th></th>\n",
              "      <th></th>\n",
              "      <th></th>\n",
              "      <th></th>\n",
              "      <th></th>\n",
              "      <th></th>\n",
              "      <th></th>\n",
              "      <th></th>\n",
              "      <th></th>\n",
              "      <th></th>\n",
              "      <th></th>\n",
              "      <th></th>\n",
              "      <th></th>\n",
              "      <th></th>\n",
              "    </tr>\n",
              "  </thead>\n",
              "  <tbody>\n",
              "    <tr>\n",
              "      <th>2012-03-20</th>\n",
              "      <td>14.90</td>\n",
              "      <td>-0.153998</td>\n",
              "      <td>0.001858</td>\n",
              "      <td>-0.155856</td>\n",
              "      <td>-0.900001</td>\n",
              "      <td>-5.696206</td>\n",
              "      <td>41.959177</td>\n",
              "      <td>39.122474</td>\n",
              "      <td>40.273923</td>\n",
              "      <td>15.295521</td>\n",
              "      <td>15.012</td>\n",
              "      <td>14.728479</td>\n",
              "      <td>15.492857</td>\n",
              "      <td>15.209598</td>\n",
              "      <td>15.670333</td>\n",
              "      <td>15.285</td>\n",
              "      <td>14.8450</td>\n",
              "      <td>14.860</td>\n",
              "      <td>14.873333</td>\n",
              "    </tr>\n",
              "    <tr>\n",
              "      <th>2012-03-21</th>\n",
              "      <td>14.97</td>\n",
              "      <td>-0.167381</td>\n",
              "      <td>-0.031989</td>\n",
              "      <td>-0.135391</td>\n",
              "      <td>-0.780000</td>\n",
              "      <td>-4.952379</td>\n",
              "      <td>43.461596</td>\n",
              "      <td>40.939086</td>\n",
              "      <td>39.266164</td>\n",
              "      <td>15.092333</td>\n",
              "      <td>14.954</td>\n",
              "      <td>14.815666</td>\n",
              "      <td>15.459124</td>\n",
              "      <td>15.166035</td>\n",
              "      <td>15.673333</td>\n",
              "      <td>15.207</td>\n",
              "      <td>14.9500</td>\n",
              "      <td>14.935</td>\n",
              "      <td>14.946667</td>\n",
              "    </tr>\n",
              "    <tr>\n",
              "      <th>2012-03-22</th>\n",
              "      <td>15.00</td>\n",
              "      <td>-0.173565</td>\n",
              "      <td>-0.060304</td>\n",
              "      <td>-0.113260</td>\n",
              "      <td>-0.810000</td>\n",
              "      <td>-5.123342</td>\n",
              "      <td>44.129084</td>\n",
              "      <td>44.758287</td>\n",
              "      <td>41.606616</td>\n",
              "      <td>15.048132</td>\n",
              "      <td>14.942</td>\n",
              "      <td>14.835868</td>\n",
              "      <td>15.429503</td>\n",
              "      <td>15.135847</td>\n",
              "      <td>15.677000</td>\n",
              "      <td>15.126</td>\n",
              "      <td>14.9800</td>\n",
              "      <td>14.960</td>\n",
              "      <td>14.973333</td>\n",
              "    </tr>\n",
              "    <tr>\n",
              "      <th>2012-03-25</th>\n",
              "      <td>14.61</td>\n",
              "      <td>-0.207543</td>\n",
              "      <td>-0.089752</td>\n",
              "      <td>-0.117791</td>\n",
              "      <td>-1.130000</td>\n",
              "      <td>-7.179162</td>\n",
              "      <td>37.869794</td>\n",
              "      <td>35.895833</td>\n",
              "      <td>40.531068</td>\n",
              "      <td>15.144377</td>\n",
              "      <td>14.868</td>\n",
              "      <td>14.591623</td>\n",
              "      <td>15.376632</td>\n",
              "      <td>15.040238</td>\n",
              "      <td>15.648000</td>\n",
              "      <td>15.013</td>\n",
              "      <td>14.7600</td>\n",
              "      <td>14.735</td>\n",
              "      <td>14.693333</td>\n",
              "    </tr>\n",
              "    <tr>\n",
              "      <th>2012-03-26</th>\n",
              "      <td>14.11</td>\n",
              "      <td>-0.271685</td>\n",
              "      <td>-0.126139</td>\n",
              "      <td>-0.145547</td>\n",
              "      <td>-1.430000</td>\n",
              "      <td>-9.202061</td>\n",
              "      <td>31.668082</td>\n",
              "      <td>27.278778</td>\n",
              "      <td>35.977633</td>\n",
              "      <td>15.385820</td>\n",
              "      <td>14.718</td>\n",
              "      <td>14.050179</td>\n",
              "      <td>15.294914</td>\n",
              "      <td>14.871104</td>\n",
              "      <td>15.555333</td>\n",
              "      <td>14.870</td>\n",
              "      <td>14.2575</td>\n",
              "      <td>14.210</td>\n",
              "      <td>14.176667</td>\n",
              "    </tr>\n",
              "  </tbody>\n",
              "</table>\n",
              "</div>"
            ],
            "text/plain": [
              "            Price      macd  macdsignal  ...  AVGPRICE  Median   TYPPRICE\n",
              "datetime                                 ...                             \n",
              "2012-03-20  14.90 -0.153998    0.001858  ...   14.8450  14.860  14.873333\n",
              "2012-03-21  14.97 -0.167381   -0.031989  ...   14.9500  14.935  14.946667\n",
              "2012-03-22  15.00 -0.173565   -0.060304  ...   14.9800  14.960  14.973333\n",
              "2012-03-25  14.61 -0.207543   -0.089752  ...   14.7600  14.735  14.693333\n",
              "2012-03-26  14.11 -0.271685   -0.126139  ...   14.2575  14.210  14.176667\n",
              "\n",
              "[5 rows x 19 columns]"
            ]
          },
          "metadata": {},
          "execution_count": 32
        }
      ]
    },
    {
      "cell_type": "code",
      "metadata": {
        "id": "xQ_rzeS98B71",
        "colab": {
          "base_uri": "https://localhost:8080/"
        },
        "outputId": "4a3668b3-5148-44fb-da7d-0d138f8d722c"
      },
      "source": [
        "dataset.shape\n"
      ],
      "execution_count": null,
      "outputs": [
        {
          "output_type": "execute_result",
          "data": {
            "text/plain": [
              "(2140, 19)"
            ]
          },
          "metadata": {},
          "execution_count": 33
        }
      ]
    },
    {
      "cell_type": "markdown",
      "metadata": {
        "id": "ZDRTzzSL8OeU"
      },
      "source": [
        "## Apply Lasso regression to make feature selection\n",
        "\n",
        "*   List item\n",
        "*   List item\n",
        "\n"
      ]
    },
    {
      "cell_type": "code",
      "metadata": {
        "id": "S1QaD9gyBdB8",
        "colab": {
          "base_uri": "https://localhost:8080/",
          "height": 340
        },
        "outputId": "dd4876e6-d747-44b7-8618-c798a644656f"
      },
      "source": [
        "\n",
        "X = dataset.drop(\"Price\",axis=1)   #Feature Matrix\n",
        "y = dataset[\"Price\"]          #Target Variable\n",
        "X.head()"
      ],
      "execution_count": null,
      "outputs": [
        {
          "output_type": "execute_result",
          "data": {
            "text/html": [
              "<div>\n",
              "<style scoped>\n",
              "    .dataframe tbody tr th:only-of-type {\n",
              "        vertical-align: middle;\n",
              "    }\n",
              "\n",
              "    .dataframe tbody tr th {\n",
              "        vertical-align: top;\n",
              "    }\n",
              "\n",
              "    .dataframe thead th {\n",
              "        text-align: right;\n",
              "    }\n",
              "</style>\n",
              "<table border=\"1\" class=\"dataframe\">\n",
              "  <thead>\n",
              "    <tr style=\"text-align: right;\">\n",
              "      <th></th>\n",
              "      <th>macd</th>\n",
              "      <th>macdsignal</th>\n",
              "      <th>macdhist</th>\n",
              "      <th>MOM</th>\n",
              "      <th>ROC</th>\n",
              "      <th>RSI</th>\n",
              "      <th>slowk</th>\n",
              "      <th>slowd</th>\n",
              "      <th>upperband</th>\n",
              "      <th>middleband</th>\n",
              "      <th>lowerband</th>\n",
              "      <th>EMA_30</th>\n",
              "      <th>EMA_10</th>\n",
              "      <th>SMA_30</th>\n",
              "      <th>SMA_10</th>\n",
              "      <th>AVGPRICE</th>\n",
              "      <th>Median</th>\n",
              "      <th>TYPPRICE</th>\n",
              "    </tr>\n",
              "    <tr>\n",
              "      <th>datetime</th>\n",
              "      <th></th>\n",
              "      <th></th>\n",
              "      <th></th>\n",
              "      <th></th>\n",
              "      <th></th>\n",
              "      <th></th>\n",
              "      <th></th>\n",
              "      <th></th>\n",
              "      <th></th>\n",
              "      <th></th>\n",
              "      <th></th>\n",
              "      <th></th>\n",
              "      <th></th>\n",
              "      <th></th>\n",
              "      <th></th>\n",
              "      <th></th>\n",
              "      <th></th>\n",
              "      <th></th>\n",
              "    </tr>\n",
              "  </thead>\n",
              "  <tbody>\n",
              "    <tr>\n",
              "      <th>2012-03-20</th>\n",
              "      <td>-0.153998</td>\n",
              "      <td>0.001858</td>\n",
              "      <td>-0.155856</td>\n",
              "      <td>-0.900001</td>\n",
              "      <td>-5.696206</td>\n",
              "      <td>41.959177</td>\n",
              "      <td>39.122474</td>\n",
              "      <td>40.273923</td>\n",
              "      <td>15.295521</td>\n",
              "      <td>15.012</td>\n",
              "      <td>14.728479</td>\n",
              "      <td>15.492857</td>\n",
              "      <td>15.209598</td>\n",
              "      <td>15.670333</td>\n",
              "      <td>15.285</td>\n",
              "      <td>14.8450</td>\n",
              "      <td>14.860</td>\n",
              "      <td>14.873333</td>\n",
              "    </tr>\n",
              "    <tr>\n",
              "      <th>2012-03-21</th>\n",
              "      <td>-0.167381</td>\n",
              "      <td>-0.031989</td>\n",
              "      <td>-0.135391</td>\n",
              "      <td>-0.780000</td>\n",
              "      <td>-4.952379</td>\n",
              "      <td>43.461596</td>\n",
              "      <td>40.939086</td>\n",
              "      <td>39.266164</td>\n",
              "      <td>15.092333</td>\n",
              "      <td>14.954</td>\n",
              "      <td>14.815666</td>\n",
              "      <td>15.459124</td>\n",
              "      <td>15.166035</td>\n",
              "      <td>15.673333</td>\n",
              "      <td>15.207</td>\n",
              "      <td>14.9500</td>\n",
              "      <td>14.935</td>\n",
              "      <td>14.946667</td>\n",
              "    </tr>\n",
              "    <tr>\n",
              "      <th>2012-03-22</th>\n",
              "      <td>-0.173565</td>\n",
              "      <td>-0.060304</td>\n",
              "      <td>-0.113260</td>\n",
              "      <td>-0.810000</td>\n",
              "      <td>-5.123342</td>\n",
              "      <td>44.129084</td>\n",
              "      <td>44.758287</td>\n",
              "      <td>41.606616</td>\n",
              "      <td>15.048132</td>\n",
              "      <td>14.942</td>\n",
              "      <td>14.835868</td>\n",
              "      <td>15.429503</td>\n",
              "      <td>15.135847</td>\n",
              "      <td>15.677000</td>\n",
              "      <td>15.126</td>\n",
              "      <td>14.9800</td>\n",
              "      <td>14.960</td>\n",
              "      <td>14.973333</td>\n",
              "    </tr>\n",
              "    <tr>\n",
              "      <th>2012-03-25</th>\n",
              "      <td>-0.207543</td>\n",
              "      <td>-0.089752</td>\n",
              "      <td>-0.117791</td>\n",
              "      <td>-1.130000</td>\n",
              "      <td>-7.179162</td>\n",
              "      <td>37.869794</td>\n",
              "      <td>35.895833</td>\n",
              "      <td>40.531068</td>\n",
              "      <td>15.144377</td>\n",
              "      <td>14.868</td>\n",
              "      <td>14.591623</td>\n",
              "      <td>15.376632</td>\n",
              "      <td>15.040238</td>\n",
              "      <td>15.648000</td>\n",
              "      <td>15.013</td>\n",
              "      <td>14.7600</td>\n",
              "      <td>14.735</td>\n",
              "      <td>14.693333</td>\n",
              "    </tr>\n",
              "    <tr>\n",
              "      <th>2012-03-26</th>\n",
              "      <td>-0.271685</td>\n",
              "      <td>-0.126139</td>\n",
              "      <td>-0.145547</td>\n",
              "      <td>-1.430000</td>\n",
              "      <td>-9.202061</td>\n",
              "      <td>31.668082</td>\n",
              "      <td>27.278778</td>\n",
              "      <td>35.977633</td>\n",
              "      <td>15.385820</td>\n",
              "      <td>14.718</td>\n",
              "      <td>14.050179</td>\n",
              "      <td>15.294914</td>\n",
              "      <td>14.871104</td>\n",
              "      <td>15.555333</td>\n",
              "      <td>14.870</td>\n",
              "      <td>14.2575</td>\n",
              "      <td>14.210</td>\n",
              "      <td>14.176667</td>\n",
              "    </tr>\n",
              "  </tbody>\n",
              "</table>\n",
              "</div>"
            ],
            "text/plain": [
              "                macd  macdsignal  macdhist  ...  AVGPRICE  Median   TYPPRICE\n",
              "datetime                                    ...                             \n",
              "2012-03-20 -0.153998    0.001858 -0.155856  ...   14.8450  14.860  14.873333\n",
              "2012-03-21 -0.167381   -0.031989 -0.135391  ...   14.9500  14.935  14.946667\n",
              "2012-03-22 -0.173565   -0.060304 -0.113260  ...   14.9800  14.960  14.973333\n",
              "2012-03-25 -0.207543   -0.089752 -0.117791  ...   14.7600  14.735  14.693333\n",
              "2012-03-26 -0.271685   -0.126139 -0.145547  ...   14.2575  14.210  14.176667\n",
              "\n",
              "[5 rows x 18 columns]"
            ]
          },
          "metadata": {},
          "execution_count": 34
        }
      ]
    },
    {
      "cell_type": "code",
      "metadata": {
        "id": "x4mpLct8CGUN",
        "colab": {
          "base_uri": "https://localhost:8080/"
        },
        "outputId": "ad2afb2f-79ba-4b01-d795-eec3c557e744"
      },
      "source": [
        "y.head()"
      ],
      "execution_count": null,
      "outputs": [
        {
          "output_type": "execute_result",
          "data": {
            "text/plain": [
              "datetime\n",
              "2012-03-20    14.90\n",
              "2012-03-21    14.97\n",
              "2012-03-22    15.00\n",
              "2012-03-25    14.61\n",
              "2012-03-26    14.11\n",
              "Name: Price, dtype: float32"
            ]
          },
          "metadata": {},
          "execution_count": 35
        }
      ]
    },
    {
      "cell_type": "code",
      "metadata": {
        "id": "A1JPYi-2CMNp"
      },
      "source": [
        "from sklearn.linear_model import  LassoCV"
      ],
      "execution_count": null,
      "outputs": []
    },
    {
      "cell_type": "code",
      "metadata": {
        "id": "4hf5FOL2CxT_",
        "colab": {
          "base_uri": "https://localhost:8080/"
        },
        "outputId": "3dbf6721-20ab-4aa9-f594-1aad1ca488bf"
      },
      "source": [
        "reg = LassoCV()\n",
        "reg.fit(X, y)\n",
        "print(\"Best alpha using built-in LassoCV: %f\" % reg.alpha_)\n",
        "print(\"Best score using built-in LassoCV: %f\" %reg.score(X,y))\n",
        "coef = pd.Series(reg.coef_, index = X.columns)"
      ],
      "execution_count": null,
      "outputs": [
        {
          "output_type": "stream",
          "text": [
            "Best alpha using built-in LassoCV: 0.008702\n",
            "Best score using built-in LassoCV: 0.999264\n"
          ],
          "name": "stdout"
        },
        {
          "output_type": "stream",
          "text": [
            "/usr/local/lib/python3.7/dist-packages/sklearn/linear_model/_coordinate_descent.py:476: ConvergenceWarning: Objective did not converge. You might want to increase the number of iterations. Duality gap: 4.984615916532704, tolerance: 1.2092568856874792\n",
            "  positive)\n"
          ],
          "name": "stderr"
        }
      ]
    },
    {
      "cell_type": "code",
      "metadata": {
        "id": "JQJLPw2fDFq5",
        "colab": {
          "base_uri": "https://localhost:8080/"
        },
        "outputId": "1af4ca2c-dfb4-4cb9-e345-093b00c1d788"
      },
      "source": [
        "print(\"Lasso picked \" + str(sum(coef != 0)) + \" variables and eliminated the other \" +  str(sum(coef == 0)) + \" variables\")"
      ],
      "execution_count": null,
      "outputs": [
        {
          "output_type": "stream",
          "text": [
            "Lasso picked 9 variables and eliminated the other 9 variables\n"
          ],
          "name": "stdout"
        }
      ]
    },
    {
      "cell_type": "code",
      "metadata": {
        "id": "DqB1qWtlEBrZ"
      },
      "source": [
        "imp_coef = coef.sort_values(ascending=False)\n"
      ],
      "execution_count": null,
      "outputs": []
    },
    {
      "cell_type": "code",
      "metadata": {
        "id": "YldFAKhQfMio",
        "colab": {
          "base_uri": "https://localhost:8080/"
        },
        "outputId": "315aab78-8402-4b4d-872a-47f58d1cf9f1"
      },
      "source": [
        "imp_coef"
      ],
      "execution_count": null,
      "outputs": [
        {
          "output_type": "execute_result",
          "data": {
            "text/plain": [
              "AVGPRICE      0.592867\n",
              "TYPPRICE      0.201825\n",
              "Median        0.161695\n",
              "SMA_30        0.038500\n",
              "RSI           0.003009\n",
              "lowerband     0.002311\n",
              "slowk         0.001217\n",
              "ROC           0.001050\n",
              "macdsignal   -0.000000\n",
              "macdhist      0.000000\n",
              "MOM           0.000000\n",
              "upperband     0.000000\n",
              "middleband    0.000000\n",
              "EMA_30        0.000000\n",
              "EMA_10        0.000000\n",
              "SMA_10        0.000000\n",
              "macd         -0.000000\n",
              "slowd        -0.001503\n",
              "dtype: float64"
            ]
          },
          "metadata": {},
          "execution_count": 40
        }
      ]
    },
    {
      "cell_type": "code",
      "metadata": {
        "id": "_Vvf5y02-dhn",
        "colab": {
          "base_uri": "https://localhost:8080/",
          "height": 340
        },
        "outputId": "ec4c8dfa-60ca-47b5-dc52-c7b6e5850891"
      },
      "source": [
        "dataset.head()"
      ],
      "execution_count": null,
      "outputs": [
        {
          "output_type": "execute_result",
          "data": {
            "text/html": [
              "<div>\n",
              "<style scoped>\n",
              "    .dataframe tbody tr th:only-of-type {\n",
              "        vertical-align: middle;\n",
              "    }\n",
              "\n",
              "    .dataframe tbody tr th {\n",
              "        vertical-align: top;\n",
              "    }\n",
              "\n",
              "    .dataframe thead th {\n",
              "        text-align: right;\n",
              "    }\n",
              "</style>\n",
              "<table border=\"1\" class=\"dataframe\">\n",
              "  <thead>\n",
              "    <tr style=\"text-align: right;\">\n",
              "      <th></th>\n",
              "      <th>Price</th>\n",
              "      <th>macd</th>\n",
              "      <th>macdsignal</th>\n",
              "      <th>macdhist</th>\n",
              "      <th>MOM</th>\n",
              "      <th>ROC</th>\n",
              "      <th>RSI</th>\n",
              "      <th>slowk</th>\n",
              "      <th>slowd</th>\n",
              "      <th>upperband</th>\n",
              "      <th>middleband</th>\n",
              "      <th>lowerband</th>\n",
              "      <th>EMA_30</th>\n",
              "      <th>EMA_10</th>\n",
              "      <th>SMA_30</th>\n",
              "      <th>SMA_10</th>\n",
              "      <th>AVGPRICE</th>\n",
              "      <th>Median</th>\n",
              "      <th>TYPPRICE</th>\n",
              "    </tr>\n",
              "    <tr>\n",
              "      <th>datetime</th>\n",
              "      <th></th>\n",
              "      <th></th>\n",
              "      <th></th>\n",
              "      <th></th>\n",
              "      <th></th>\n",
              "      <th></th>\n",
              "      <th></th>\n",
              "      <th></th>\n",
              "      <th></th>\n",
              "      <th></th>\n",
              "      <th></th>\n",
              "      <th></th>\n",
              "      <th></th>\n",
              "      <th></th>\n",
              "      <th></th>\n",
              "      <th></th>\n",
              "      <th></th>\n",
              "      <th></th>\n",
              "      <th></th>\n",
              "    </tr>\n",
              "  </thead>\n",
              "  <tbody>\n",
              "    <tr>\n",
              "      <th>2012-03-20</th>\n",
              "      <td>14.90</td>\n",
              "      <td>-0.153998</td>\n",
              "      <td>0.001858</td>\n",
              "      <td>-0.155856</td>\n",
              "      <td>-0.900001</td>\n",
              "      <td>-5.696206</td>\n",
              "      <td>41.959177</td>\n",
              "      <td>39.122474</td>\n",
              "      <td>40.273923</td>\n",
              "      <td>15.295521</td>\n",
              "      <td>15.012</td>\n",
              "      <td>14.728479</td>\n",
              "      <td>15.492857</td>\n",
              "      <td>15.209598</td>\n",
              "      <td>15.670333</td>\n",
              "      <td>15.285</td>\n",
              "      <td>14.8450</td>\n",
              "      <td>14.860</td>\n",
              "      <td>14.873333</td>\n",
              "    </tr>\n",
              "    <tr>\n",
              "      <th>2012-03-21</th>\n",
              "      <td>14.97</td>\n",
              "      <td>-0.167381</td>\n",
              "      <td>-0.031989</td>\n",
              "      <td>-0.135391</td>\n",
              "      <td>-0.780000</td>\n",
              "      <td>-4.952379</td>\n",
              "      <td>43.461596</td>\n",
              "      <td>40.939086</td>\n",
              "      <td>39.266164</td>\n",
              "      <td>15.092333</td>\n",
              "      <td>14.954</td>\n",
              "      <td>14.815666</td>\n",
              "      <td>15.459124</td>\n",
              "      <td>15.166035</td>\n",
              "      <td>15.673333</td>\n",
              "      <td>15.207</td>\n",
              "      <td>14.9500</td>\n",
              "      <td>14.935</td>\n",
              "      <td>14.946667</td>\n",
              "    </tr>\n",
              "    <tr>\n",
              "      <th>2012-03-22</th>\n",
              "      <td>15.00</td>\n",
              "      <td>-0.173565</td>\n",
              "      <td>-0.060304</td>\n",
              "      <td>-0.113260</td>\n",
              "      <td>-0.810000</td>\n",
              "      <td>-5.123342</td>\n",
              "      <td>44.129084</td>\n",
              "      <td>44.758287</td>\n",
              "      <td>41.606616</td>\n",
              "      <td>15.048132</td>\n",
              "      <td>14.942</td>\n",
              "      <td>14.835868</td>\n",
              "      <td>15.429503</td>\n",
              "      <td>15.135847</td>\n",
              "      <td>15.677000</td>\n",
              "      <td>15.126</td>\n",
              "      <td>14.9800</td>\n",
              "      <td>14.960</td>\n",
              "      <td>14.973333</td>\n",
              "    </tr>\n",
              "    <tr>\n",
              "      <th>2012-03-25</th>\n",
              "      <td>14.61</td>\n",
              "      <td>-0.207543</td>\n",
              "      <td>-0.089752</td>\n",
              "      <td>-0.117791</td>\n",
              "      <td>-1.130000</td>\n",
              "      <td>-7.179162</td>\n",
              "      <td>37.869794</td>\n",
              "      <td>35.895833</td>\n",
              "      <td>40.531068</td>\n",
              "      <td>15.144377</td>\n",
              "      <td>14.868</td>\n",
              "      <td>14.591623</td>\n",
              "      <td>15.376632</td>\n",
              "      <td>15.040238</td>\n",
              "      <td>15.648000</td>\n",
              "      <td>15.013</td>\n",
              "      <td>14.7600</td>\n",
              "      <td>14.735</td>\n",
              "      <td>14.693333</td>\n",
              "    </tr>\n",
              "    <tr>\n",
              "      <th>2012-03-26</th>\n",
              "      <td>14.11</td>\n",
              "      <td>-0.271685</td>\n",
              "      <td>-0.126139</td>\n",
              "      <td>-0.145547</td>\n",
              "      <td>-1.430000</td>\n",
              "      <td>-9.202061</td>\n",
              "      <td>31.668082</td>\n",
              "      <td>27.278778</td>\n",
              "      <td>35.977633</td>\n",
              "      <td>15.385820</td>\n",
              "      <td>14.718</td>\n",
              "      <td>14.050179</td>\n",
              "      <td>15.294914</td>\n",
              "      <td>14.871104</td>\n",
              "      <td>15.555333</td>\n",
              "      <td>14.870</td>\n",
              "      <td>14.2575</td>\n",
              "      <td>14.210</td>\n",
              "      <td>14.176667</td>\n",
              "    </tr>\n",
              "  </tbody>\n",
              "</table>\n",
              "</div>"
            ],
            "text/plain": [
              "            Price      macd  macdsignal  ...  AVGPRICE  Median   TYPPRICE\n",
              "datetime                                 ...                             \n",
              "2012-03-20  14.90 -0.153998    0.001858  ...   14.8450  14.860  14.873333\n",
              "2012-03-21  14.97 -0.167381   -0.031989  ...   14.9500  14.935  14.946667\n",
              "2012-03-22  15.00 -0.173565   -0.060304  ...   14.9800  14.960  14.973333\n",
              "2012-03-25  14.61 -0.207543   -0.089752  ...   14.7600  14.735  14.693333\n",
              "2012-03-26  14.11 -0.271685   -0.126139  ...   14.2575  14.210  14.176667\n",
              "\n",
              "[5 rows x 19 columns]"
            ]
          },
          "metadata": {},
          "execution_count": 41
        }
      ]
    },
    {
      "cell_type": "code",
      "metadata": {
        "id": "1BOT5-1n-791",
        "colab": {
          "base_uri": "https://localhost:8080/"
        },
        "outputId": "31777180-6876-420f-d00a-3ff7790c7d46"
      },
      "source": [
        "dataset.drop(['macdsignal','macdhist','MOM','middleband','upperband','EMA_30','SMA_10','EMA_10','macd'],axis=1,inplace=True)"
      ],
      "execution_count": null,
      "outputs": [
        {
          "output_type": "stream",
          "text": [
            "/usr/local/lib/python3.7/dist-packages/pandas/core/frame.py:4174: SettingWithCopyWarning: \n",
            "A value is trying to be set on a copy of a slice from a DataFrame\n",
            "\n",
            "See the caveats in the documentation: https://pandas.pydata.org/pandas-docs/stable/user_guide/indexing.html#returning-a-view-versus-a-copy\n",
            "  errors=errors,\n"
          ],
          "name": "stderr"
        }
      ]
    },
    {
      "cell_type": "code",
      "metadata": {
        "id": "z_PV6kN-_CfH",
        "colab": {
          "base_uri": "https://localhost:8080/",
          "height": 111
        },
        "outputId": "0015acf9-7c6e-4458-d97d-458fb9538de6"
      },
      "source": [
        "dataset.head(1)"
      ],
      "execution_count": null,
      "outputs": [
        {
          "output_type": "execute_result",
          "data": {
            "text/html": [
              "<div>\n",
              "<style scoped>\n",
              "    .dataframe tbody tr th:only-of-type {\n",
              "        vertical-align: middle;\n",
              "    }\n",
              "\n",
              "    .dataframe tbody tr th {\n",
              "        vertical-align: top;\n",
              "    }\n",
              "\n",
              "    .dataframe thead th {\n",
              "        text-align: right;\n",
              "    }\n",
              "</style>\n",
              "<table border=\"1\" class=\"dataframe\">\n",
              "  <thead>\n",
              "    <tr style=\"text-align: right;\">\n",
              "      <th></th>\n",
              "      <th>Price</th>\n",
              "      <th>ROC</th>\n",
              "      <th>RSI</th>\n",
              "      <th>slowk</th>\n",
              "      <th>slowd</th>\n",
              "      <th>lowerband</th>\n",
              "      <th>SMA_30</th>\n",
              "      <th>AVGPRICE</th>\n",
              "      <th>Median</th>\n",
              "      <th>TYPPRICE</th>\n",
              "    </tr>\n",
              "    <tr>\n",
              "      <th>datetime</th>\n",
              "      <th></th>\n",
              "      <th></th>\n",
              "      <th></th>\n",
              "      <th></th>\n",
              "      <th></th>\n",
              "      <th></th>\n",
              "      <th></th>\n",
              "      <th></th>\n",
              "      <th></th>\n",
              "      <th></th>\n",
              "    </tr>\n",
              "  </thead>\n",
              "  <tbody>\n",
              "    <tr>\n",
              "      <th>2012-03-20</th>\n",
              "      <td>14.9</td>\n",
              "      <td>-5.696206</td>\n",
              "      <td>41.959177</td>\n",
              "      <td>39.122474</td>\n",
              "      <td>40.273923</td>\n",
              "      <td>14.728479</td>\n",
              "      <td>15.670333</td>\n",
              "      <td>14.845</td>\n",
              "      <td>14.86</td>\n",
              "      <td>14.873333</td>\n",
              "    </tr>\n",
              "  </tbody>\n",
              "</table>\n",
              "</div>"
            ],
            "text/plain": [
              "            Price       ROC        RSI  ...  AVGPRICE  Median   TYPPRICE\n",
              "datetime                                ...                             \n",
              "2012-03-20   14.9 -5.696206  41.959177  ...    14.845   14.86  14.873333\n",
              "\n",
              "[1 rows x 10 columns]"
            ]
          },
          "metadata": {},
          "execution_count": 44
        }
      ]
    },
    {
      "cell_type": "code",
      "metadata": {
        "id": "JJjgWXIfEvx1"
      },
      "source": [
        ""
      ],
      "execution_count": null,
      "outputs": []
    },
    {
      "cell_type": "code",
      "metadata": {
        "id": "6Cc6Hy-3MRp5",
        "colab": {
          "base_uri": "https://localhost:8080/"
        },
        "outputId": "43f35c65-fe71-4bbb-c3d0-050ef0c4f652"
      },
      "source": [
        "dataset.shape"
      ],
      "execution_count": null,
      "outputs": [
        {
          "output_type": "execute_result",
          "data": {
            "text/plain": [
              "(2140, 10)"
            ]
          },
          "metadata": {},
          "execution_count": 45
        }
      ]
    },
    {
      "cell_type": "code",
      "metadata": {
        "id": "XUtQW3l3MTdy",
        "colab": {
          "base_uri": "https://localhost:8080/"
        },
        "outputId": "ee70b25e-01ef-4c2d-abc6-371e1298ac11"
      },
      "source": [
        "print (dataset.index.min())\n",
        "print (dataset.index.max())"
      ],
      "execution_count": null,
      "outputs": [
        {
          "output_type": "stream",
          "text": [
            "2012-03-20 00:00:00\n",
            "2020-12-30 00:00:00\n"
          ],
          "name": "stdout"
        }
      ]
    },
    {
      "cell_type": "code",
      "metadata": {
        "id": "mHVf8PJ7PNnl",
        "colab": {
          "base_uri": "https://localhost:8080/"
        },
        "outputId": "12a8f71b-311b-4860-d593-87f5aa7045b9"
      },
      "source": [
        "# Split data to train and test\n",
        "# day to split\n",
        "split_point=round(len(dataset)*.8)\n",
        "split_point"
      ],
      "execution_count": null,
      "outputs": [
        {
          "output_type": "execute_result",
          "data": {
            "text/plain": [
              "1712"
            ]
          },
          "metadata": {},
          "execution_count": 47
        }
      ]
    },
    {
      "cell_type": "code",
      "metadata": {
        "id": "TfflaJ5vPJJp",
        "colab": {
          "base_uri": "https://localhost:8080/"
        },
        "outputId": "0cedb7af-c5a9-4459-c8d1-ba952120bab7"
      },
      "source": [
        "dataset.iloc[split_point]"
      ],
      "execution_count": null,
      "outputs": [
        {
          "output_type": "execute_result",
          "data": {
            "text/plain": [
              "Price        14.540000\n",
              "ROC          -1.289882\n",
              "RSI          50.954193\n",
              "slowk        56.783008\n",
              "slowd        53.157047\n",
              "lowerband    14.164965\n",
              "SMA_30       14.659333\n",
              "AVGPRICE     14.417500\n",
              "Median       14.465000\n",
              "TYPPRICE     14.490000\n",
              "Name: 2019-03-26 00:00:00, dtype: float64"
            ]
          },
          "metadata": {},
          "execution_count": 48
        }
      ]
    },
    {
      "cell_type": "code",
      "metadata": {
        "id": "uYWxjHlDOrNg"
      },
      "source": [
        "data_training = dataset[dataset.index<'2019-03-26'].copy()\n",
        "data_test = dataset[dataset.index>='2019-03-26'].copy()"
      ],
      "execution_count": null,
      "outputs": []
    },
    {
      "cell_type": "code",
      "metadata": {
        "id": "hWd2aQLLPsBB",
        "colab": {
          "base_uri": "https://localhost:8080/",
          "height": 142
        },
        "outputId": "36cd2d8f-384f-4590-e8bd-a40144f94caf"
      },
      "source": [
        "data_training.head(2)"
      ],
      "execution_count": null,
      "outputs": [
        {
          "output_type": "execute_result",
          "data": {
            "text/html": [
              "<div>\n",
              "<style scoped>\n",
              "    .dataframe tbody tr th:only-of-type {\n",
              "        vertical-align: middle;\n",
              "    }\n",
              "\n",
              "    .dataframe tbody tr th {\n",
              "        vertical-align: top;\n",
              "    }\n",
              "\n",
              "    .dataframe thead th {\n",
              "        text-align: right;\n",
              "    }\n",
              "</style>\n",
              "<table border=\"1\" class=\"dataframe\">\n",
              "  <thead>\n",
              "    <tr style=\"text-align: right;\">\n",
              "      <th></th>\n",
              "      <th>Price</th>\n",
              "      <th>ROC</th>\n",
              "      <th>RSI</th>\n",
              "      <th>slowk</th>\n",
              "      <th>slowd</th>\n",
              "      <th>lowerband</th>\n",
              "      <th>SMA_30</th>\n",
              "      <th>AVGPRICE</th>\n",
              "      <th>Median</th>\n",
              "      <th>TYPPRICE</th>\n",
              "    </tr>\n",
              "    <tr>\n",
              "      <th>datetime</th>\n",
              "      <th></th>\n",
              "      <th></th>\n",
              "      <th></th>\n",
              "      <th></th>\n",
              "      <th></th>\n",
              "      <th></th>\n",
              "      <th></th>\n",
              "      <th></th>\n",
              "      <th></th>\n",
              "      <th></th>\n",
              "    </tr>\n",
              "  </thead>\n",
              "  <tbody>\n",
              "    <tr>\n",
              "      <th>2012-03-20</th>\n",
              "      <td>14.90</td>\n",
              "      <td>-5.696206</td>\n",
              "      <td>41.959177</td>\n",
              "      <td>39.122474</td>\n",
              "      <td>40.273923</td>\n",
              "      <td>14.728479</td>\n",
              "      <td>15.670333</td>\n",
              "      <td>14.845</td>\n",
              "      <td>14.860</td>\n",
              "      <td>14.873333</td>\n",
              "    </tr>\n",
              "    <tr>\n",
              "      <th>2012-03-21</th>\n",
              "      <td>14.97</td>\n",
              "      <td>-4.952379</td>\n",
              "      <td>43.461596</td>\n",
              "      <td>40.939086</td>\n",
              "      <td>39.266164</td>\n",
              "      <td>14.815666</td>\n",
              "      <td>15.673333</td>\n",
              "      <td>14.950</td>\n",
              "      <td>14.935</td>\n",
              "      <td>14.946667</td>\n",
              "    </tr>\n",
              "  </tbody>\n",
              "</table>\n",
              "</div>"
            ],
            "text/plain": [
              "            Price       ROC        RSI  ...  AVGPRICE  Median   TYPPRICE\n",
              "datetime                                ...                             \n",
              "2012-03-20  14.90 -5.696206  41.959177  ...    14.845  14.860  14.873333\n",
              "2012-03-21  14.97 -4.952379  43.461596  ...    14.950  14.935  14.946667\n",
              "\n",
              "[2 rows x 10 columns]"
            ]
          },
          "metadata": {},
          "execution_count": 50
        }
      ]
    },
    {
      "cell_type": "code",
      "metadata": {
        "id": "rzrqJLNdPvF9",
        "colab": {
          "base_uri": "https://localhost:8080/",
          "height": 142
        },
        "outputId": "ce64d382-54cf-4276-cf9b-8c0b0d72692e"
      },
      "source": [
        "data_training.tail(2)"
      ],
      "execution_count": null,
      "outputs": [
        {
          "output_type": "execute_result",
          "data": {
            "text/html": [
              "<div>\n",
              "<style scoped>\n",
              "    .dataframe tbody tr th:only-of-type {\n",
              "        vertical-align: middle;\n",
              "    }\n",
              "\n",
              "    .dataframe tbody tr th {\n",
              "        vertical-align: top;\n",
              "    }\n",
              "\n",
              "    .dataframe thead th {\n",
              "        text-align: right;\n",
              "    }\n",
              "</style>\n",
              "<table border=\"1\" class=\"dataframe\">\n",
              "  <thead>\n",
              "    <tr style=\"text-align: right;\">\n",
              "      <th></th>\n",
              "      <th>Price</th>\n",
              "      <th>ROC</th>\n",
              "      <th>RSI</th>\n",
              "      <th>slowk</th>\n",
              "      <th>slowd</th>\n",
              "      <th>lowerband</th>\n",
              "      <th>SMA_30</th>\n",
              "      <th>AVGPRICE</th>\n",
              "      <th>Median</th>\n",
              "      <th>TYPPRICE</th>\n",
              "    </tr>\n",
              "    <tr>\n",
              "      <th>datetime</th>\n",
              "      <th></th>\n",
              "      <th></th>\n",
              "      <th></th>\n",
              "      <th></th>\n",
              "      <th></th>\n",
              "      <th></th>\n",
              "      <th></th>\n",
              "      <th></th>\n",
              "      <th></th>\n",
              "      <th></th>\n",
              "    </tr>\n",
              "  </thead>\n",
              "  <tbody>\n",
              "    <tr>\n",
              "      <th>2019-03-24</th>\n",
              "      <td>14.46</td>\n",
              "      <td>-3.212848</td>\n",
              "      <td>48.314425</td>\n",
              "      <td>50.537621</td>\n",
              "      <td>37.713497</td>\n",
              "      <td>14.200275</td>\n",
              "      <td>14.681000</td>\n",
              "      <td>14.4825</td>\n",
              "      <td>14.440</td>\n",
              "      <td>14.446667</td>\n",
              "    </tr>\n",
              "    <tr>\n",
              "      <th>2019-03-25</th>\n",
              "      <td>14.28</td>\n",
              "      <td>-3.317540</td>\n",
              "      <td>43.756046</td>\n",
              "      <td>52.150510</td>\n",
              "      <td>46.291680</td>\n",
              "      <td>14.188120</td>\n",
              "      <td>14.669333</td>\n",
              "      <td>14.3275</td>\n",
              "      <td>14.305</td>\n",
              "      <td>14.296666</td>\n",
              "    </tr>\n",
              "  </tbody>\n",
              "</table>\n",
              "</div>"
            ],
            "text/plain": [
              "            Price       ROC        RSI  ...  AVGPRICE  Median   TYPPRICE\n",
              "datetime                                ...                             \n",
              "2019-03-24  14.46 -3.212848  48.314425  ...   14.4825  14.440  14.446667\n",
              "2019-03-25  14.28 -3.317540  43.756046  ...   14.3275  14.305  14.296666\n",
              "\n",
              "[2 rows x 10 columns]"
            ]
          },
          "metadata": {},
          "execution_count": 51
        }
      ]
    },
    {
      "cell_type": "code",
      "metadata": {
        "id": "PsK9PLkPPyih",
        "colab": {
          "base_uri": "https://localhost:8080/",
          "height": 142
        },
        "outputId": "b03d609f-d561-48d0-a1a1-1bffbcd656a8"
      },
      "source": [
        "data_test.head(2)"
      ],
      "execution_count": null,
      "outputs": [
        {
          "output_type": "execute_result",
          "data": {
            "text/html": [
              "<div>\n",
              "<style scoped>\n",
              "    .dataframe tbody tr th:only-of-type {\n",
              "        vertical-align: middle;\n",
              "    }\n",
              "\n",
              "    .dataframe tbody tr th {\n",
              "        vertical-align: top;\n",
              "    }\n",
              "\n",
              "    .dataframe thead th {\n",
              "        text-align: right;\n",
              "    }\n",
              "</style>\n",
              "<table border=\"1\" class=\"dataframe\">\n",
              "  <thead>\n",
              "    <tr style=\"text-align: right;\">\n",
              "      <th></th>\n",
              "      <th>Price</th>\n",
              "      <th>ROC</th>\n",
              "      <th>RSI</th>\n",
              "      <th>slowk</th>\n",
              "      <th>slowd</th>\n",
              "      <th>lowerband</th>\n",
              "      <th>SMA_30</th>\n",
              "      <th>AVGPRICE</th>\n",
              "      <th>Median</th>\n",
              "      <th>TYPPRICE</th>\n",
              "    </tr>\n",
              "    <tr>\n",
              "      <th>datetime</th>\n",
              "      <th></th>\n",
              "      <th></th>\n",
              "      <th></th>\n",
              "      <th></th>\n",
              "      <th></th>\n",
              "      <th></th>\n",
              "      <th></th>\n",
              "      <th></th>\n",
              "      <th></th>\n",
              "      <th></th>\n",
              "    </tr>\n",
              "  </thead>\n",
              "  <tbody>\n",
              "    <tr>\n",
              "      <th>2019-03-26</th>\n",
              "      <td>14.54</td>\n",
              "      <td>-1.289882</td>\n",
              "      <td>50.954193</td>\n",
              "      <td>56.783008</td>\n",
              "      <td>53.157047</td>\n",
              "      <td>14.164965</td>\n",
              "      <td>14.659333</td>\n",
              "      <td>14.4175</td>\n",
              "      <td>14.465</td>\n",
              "      <td>14.490000</td>\n",
              "    </tr>\n",
              "    <tr>\n",
              "      <th>2019-03-27</th>\n",
              "      <td>14.48</td>\n",
              "      <td>-1.092902</td>\n",
              "      <td>49.383497</td>\n",
              "      <td>53.147954</td>\n",
              "      <td>54.027158</td>\n",
              "      <td>14.248044</td>\n",
              "      <td>14.651333</td>\n",
              "      <td>14.4950</td>\n",
              "      <td>14.500</td>\n",
              "      <td>14.493333</td>\n",
              "    </tr>\n",
              "  </tbody>\n",
              "</table>\n",
              "</div>"
            ],
            "text/plain": [
              "            Price       ROC        RSI  ...  AVGPRICE  Median   TYPPRICE\n",
              "datetime                                ...                             \n",
              "2019-03-26  14.54 -1.289882  50.954193  ...   14.4175  14.465  14.490000\n",
              "2019-03-27  14.48 -1.092902  49.383497  ...   14.4950  14.500  14.493333\n",
              "\n",
              "[2 rows x 10 columns]"
            ]
          },
          "metadata": {},
          "execution_count": 52
        }
      ]
    },
    {
      "cell_type": "code",
      "metadata": {
        "id": "Rlq3oTsEP23e",
        "colab": {
          "base_uri": "https://localhost:8080/",
          "height": 142
        },
        "outputId": "0f03d631-763c-4bdb-d9f9-d385e51d4bc7"
      },
      "source": [
        "data_test.tail(2)"
      ],
      "execution_count": null,
      "outputs": [
        {
          "output_type": "execute_result",
          "data": {
            "text/html": [
              "<div>\n",
              "<style scoped>\n",
              "    .dataframe tbody tr th:only-of-type {\n",
              "        vertical-align: middle;\n",
              "    }\n",
              "\n",
              "    .dataframe tbody tr th {\n",
              "        vertical-align: top;\n",
              "    }\n",
              "\n",
              "    .dataframe thead th {\n",
              "        text-align: right;\n",
              "    }\n",
              "</style>\n",
              "<table border=\"1\" class=\"dataframe\">\n",
              "  <thead>\n",
              "    <tr style=\"text-align: right;\">\n",
              "      <th></th>\n",
              "      <th>Price</th>\n",
              "      <th>ROC</th>\n",
              "      <th>RSI</th>\n",
              "      <th>slowk</th>\n",
              "      <th>slowd</th>\n",
              "      <th>lowerband</th>\n",
              "      <th>SMA_30</th>\n",
              "      <th>AVGPRICE</th>\n",
              "      <th>Median</th>\n",
              "      <th>TYPPRICE</th>\n",
              "    </tr>\n",
              "    <tr>\n",
              "      <th>datetime</th>\n",
              "      <th></th>\n",
              "      <th></th>\n",
              "      <th></th>\n",
              "      <th></th>\n",
              "      <th></th>\n",
              "      <th></th>\n",
              "      <th></th>\n",
              "      <th></th>\n",
              "      <th></th>\n",
              "      <th></th>\n",
              "    </tr>\n",
              "  </thead>\n",
              "  <tbody>\n",
              "    <tr>\n",
              "      <th>2020-12-29</th>\n",
              "      <td>11.49</td>\n",
              "      <td>-6.661256</td>\n",
              "      <td>30.531671</td>\n",
              "      <td>28.407273</td>\n",
              "      <td>31.301588</td>\n",
              "      <td>11.402373</td>\n",
              "      <td>12.350</td>\n",
              "      <td>11.5225</td>\n",
              "      <td>11.520</td>\n",
              "      <td>11.51</td>\n",
              "    </tr>\n",
              "    <tr>\n",
              "      <th>2020-12-30</th>\n",
              "      <td>11.80</td>\n",
              "      <td>-3.040262</td>\n",
              "      <td>42.135676</td>\n",
              "      <td>42.245492</td>\n",
              "      <td>34.574685</td>\n",
              "      <td>11.324575</td>\n",
              "      <td>12.318</td>\n",
              "      <td>11.7425</td>\n",
              "      <td>11.785</td>\n",
              "      <td>11.79</td>\n",
              "    </tr>\n",
              "  </tbody>\n",
              "</table>\n",
              "</div>"
            ],
            "text/plain": [
              "            Price       ROC        RSI  ...  AVGPRICE  Median  TYPPRICE\n",
              "datetime                                ...                            \n",
              "2020-12-29  11.49 -6.661256  30.531671  ...   11.5225  11.520     11.51\n",
              "2020-12-30  11.80 -3.040262  42.135676  ...   11.7425  11.785     11.79\n",
              "\n",
              "[2 rows x 10 columns]"
            ]
          },
          "metadata": {},
          "execution_count": 53
        }
      ]
    },
    {
      "cell_type": "code",
      "metadata": {
        "id": "ZNZ2PP35rFNK"
      },
      "source": [
        "# Add 120 days for test data"
      ],
      "execution_count": null,
      "outputs": []
    },
    {
      "cell_type": "code",
      "metadata": {
        "id": "rzXQVaW4QmvY"
      },
      "source": [
        "#past_120_days = data_training.tail(120)"
      ],
      "execution_count": null,
      "outputs": []
    },
    {
      "cell_type": "code",
      "metadata": {
        "id": "7RvL6qbJQrZf"
      },
      "source": [
        "#data_test = past_120_days.append(data_test)\n"
      ],
      "execution_count": null,
      "outputs": []
    },
    {
      "cell_type": "code",
      "metadata": {
        "id": "5Fv0vIDRQvpj"
      },
      "source": [
        "#data_test.head(2)"
      ],
      "execution_count": null,
      "outputs": []
    },
    {
      "cell_type": "code",
      "metadata": {
        "id": "6TaMBTeYQ2cr"
      },
      "source": [
        "#data_test.tail(2)"
      ],
      "execution_count": null,
      "outputs": []
    },
    {
      "cell_type": "code",
      "metadata": {
        "id": "0AJaPyCGsNK3",
        "colab": {
          "base_uri": "https://localhost:8080/"
        },
        "outputId": "4d558571-36ea-4e90-daa4-83b69fd98c01"
      },
      "source": [
        "data_training.shape"
      ],
      "execution_count": null,
      "outputs": [
        {
          "output_type": "execute_result",
          "data": {
            "text/plain": [
              "(1712, 10)"
            ]
          },
          "metadata": {},
          "execution_count": 59
        }
      ]
    },
    {
      "cell_type": "code",
      "metadata": {
        "id": "tx3lwROPsTAS",
        "colab": {
          "base_uri": "https://localhost:8080/"
        },
        "outputId": "bdf2bfa5-024e-4e91-8772-a3db7f10a3c4"
      },
      "source": [
        "data_test.shape"
      ],
      "execution_count": null,
      "outputs": [
        {
          "output_type": "execute_result",
          "data": {
            "text/plain": [
              "(428, 10)"
            ]
          },
          "metadata": {},
          "execution_count": 60
        }
      ]
    },
    {
      "cell_type": "code",
      "metadata": {
        "id": "9PoMH-v3siuT"
      },
      "source": [
        "data_training = data_training.values\n",
        "data_training= data_training.astype(\"float32\")"
      ],
      "execution_count": null,
      "outputs": []
    },
    {
      "cell_type": "code",
      "metadata": {
        "id": "zL2P6QjmslRk"
      },
      "source": [
        "data_test = data_test.values\n",
        "data_test= data_test.astype(\"float32\")"
      ],
      "execution_count": null,
      "outputs": []
    },
    {
      "cell_type": "markdown",
      "metadata": {
        "id": "eMN3dvsD5Rwx"
      },
      "source": [
        "####Feature Scaling"
      ]
    },
    {
      "cell_type": "code",
      "metadata": {
        "id": "VHrKaQdu5bFr",
        "colab": {
          "base_uri": "https://localhost:8080/"
        },
        "outputId": "f36f6575-11c7-4c48-cc7d-bbe0d0aa5b85"
      },
      "source": [
        "from sklearn.preprocessing import MinMaxScaler\n",
        "scaler = MinMaxScaler()\n",
        "data_training = scaler.fit_transform(data_training)\n",
        "data_training"
      ],
      "execution_count": null,
      "outputs": [
        {
          "output_type": "execute_result",
          "data": {
            "text/plain": [
              "array([[0.76300573, 0.3060745 , 0.4152764 , ..., 0.76359105, 0.76220024,\n",
              "        0.76246893],\n",
              "       [0.7687861 , 0.32007584, 0.43571925, ..., 0.7723391 , 0.76840365,\n",
              "        0.7685313 ],\n",
              "       [0.77126336, 0.31685776, 0.4448015 , ..., 0.77483857, 0.77047145,\n",
              "        0.77073574],\n",
              "       ...,\n",
              "       [0.7200661 , 0.35987872, 0.47015542, ..., 0.7190169 , 0.7220844 ,\n",
              "        0.7214109 ],\n",
              "       [0.7266722 , 0.35281974, 0.5017497 , ..., 0.733389  , 0.72746074,\n",
              "        0.72719765],\n",
              "       [0.7118083 , 0.3508491 , 0.4397257 , ..., 0.72047496, 0.7162945 ,\n",
              "        0.7147975 ]], dtype=float32)"
            ]
          },
          "metadata": {},
          "execution_count": 63
        }
      ]
    },
    {
      "cell_type": "code",
      "metadata": {
        "id": "-uLby8QxtMXV",
        "colab": {
          "base_uri": "https://localhost:8080/"
        },
        "outputId": "feaf83f5-6698-46a1-d1c8-65c557474d40"
      },
      "source": [
        "inputs = scaler.transform(data_test)\n",
        "inputs"
      ],
      "execution_count": null,
      "outputs": [
        {
          "output_type": "execute_result",
          "data": {
            "text/plain": [
              "array([[0.7332783 , 0.3890165 , 0.53766793, ..., 0.72797334, 0.72952855,\n",
              "        0.7307799 ],\n",
              "       [0.7283236 , 0.39272436, 0.51629615, ..., 0.73443043, 0.73242354,\n",
              "        0.7310554 ],\n",
              "       [0.7332783 , 0.40942073, 0.53842473, ..., 0.7327641 , 0.7307693 ,\n",
              "        0.7316065 ],\n",
              "       ...,\n",
              "       [0.47976878, 0.27493384, 0.2482935 , ..., 0.48614883, 0.48428455,\n",
              "        0.48277757],\n",
              "       [0.4814203 , 0.28790897, 0.25978708, ..., 0.48677367, 0.48593882,\n",
              "        0.484431  ],\n",
              "       [0.50701904, 0.3560684 , 0.417678  , ..., 0.5051032 , 0.5078577 ,\n",
              "        0.5075778 ]], dtype=float32)"
            ]
          },
          "metadata": {},
          "execution_count": 64
        }
      ]
    },
    {
      "cell_type": "markdown",
      "metadata": {
        "id": "JyYgYocqhNUg"
      },
      "source": [
        "### Creating a data structure with 120 timesteps and 1 output"
      ]
    },
    {
      "cell_type": "code",
      "metadata": {
        "id": "ssu9KC7BRY1X"
      },
      "source": [
        "# split a multivariate sequence into samples\n",
        "def split_sequences(sequences, n_steps_in, n_steps_out):\n",
        "\tX_train, y_train = list(), list()\n",
        "\tfor i in range(len(sequences)):\n",
        "\t\t# find the end of this pattern\n",
        "\t\tend_ix = i + n_steps_in \n",
        "\t\tout_end_ix = end_ix + n_steps_out\n",
        "\t\t# check if we are beyond the dataset\n",
        "\t\tif out_end_ix > len(sequences):\n",
        "\t\t\tbreak\n",
        "\t\t# gather input and output parts of the pattern\n",
        "\t\tseq_x, seq_y = sequences[i:end_ix, 1:], sequences[end_ix:out_end_ix, 0]\n",
        "\t\tX_train.append(seq_x)\n",
        "\t\ty_train.append(seq_y)\n",
        "\treturn np.array(X_train), np.array(y_train)"
      ],
      "execution_count": null,
      "outputs": []
    },
    {
      "cell_type": "code",
      "metadata": {
        "id": "M-MLdXZx6rt_"
      },
      "source": [
        "trainX, trainY = split_sequences(data_training, 1,1)"
      ],
      "execution_count": null,
      "outputs": []
    },
    {
      "cell_type": "code",
      "metadata": {
        "id": "1s79tKcm76jO",
        "colab": {
          "base_uri": "https://localhost:8080/"
        },
        "outputId": "b59abdc1-db23-43c2-95b1-af4cc756092c"
      },
      "source": [
        "print(trainX.shape)\n",
        "print(trainY.shape)"
      ],
      "execution_count": null,
      "outputs": [
        {
          "output_type": "stream",
          "text": [
            "(1711, 1, 9)\n",
            "(1711, 1)\n"
          ],
          "name": "stdout"
        }
      ]
    },
    {
      "cell_type": "code",
      "metadata": {
        "id": "pYHcZPWC78HR",
        "colab": {
          "base_uri": "https://localhost:8080/"
        },
        "outputId": "bf6836df-80f3-4b54-e3ff-117ad4bd20d8"
      },
      "source": [
        "trainX = np.reshape(trainX, (trainX.shape[0], trainX.shape[1],9))\n",
        "trainX.shape"
      ],
      "execution_count": null,
      "outputs": [
        {
          "output_type": "execute_result",
          "data": {
            "text/plain": [
              "(1711, 1, 9)"
            ]
          },
          "metadata": {},
          "execution_count": 69
        }
      ]
    },
    {
      "cell_type": "code",
      "metadata": {
        "id": "DVu2p3m9A66k"
      },
      "source": [
        "testX, testY = split_sequences(inputs, 1,1)"
      ],
      "execution_count": null,
      "outputs": []
    },
    {
      "cell_type": "code",
      "metadata": {
        "id": "DyXdR3miA9NG",
        "colab": {
          "base_uri": "https://localhost:8080/"
        },
        "outputId": "00bab494-0972-4e32-db11-7a752f5c5221"
      },
      "source": [
        "testX.shape"
      ],
      "execution_count": null,
      "outputs": [
        {
          "output_type": "execute_result",
          "data": {
            "text/plain": [
              "(427, 1, 9)"
            ]
          },
          "metadata": {},
          "execution_count": 71
        }
      ]
    },
    {
      "cell_type": "code",
      "metadata": {
        "id": "SdPHwAJABBf0",
        "colab": {
          "base_uri": "https://localhost:8080/"
        },
        "outputId": "80506d19-9c5c-4232-c16f-0f1b2840e667"
      },
      "source": [
        "testY.shape"
      ],
      "execution_count": null,
      "outputs": [
        {
          "output_type": "execute_result",
          "data": {
            "text/plain": [
              "(427, 1)"
            ]
          },
          "metadata": {},
          "execution_count": 72
        }
      ]
    },
    {
      "cell_type": "markdown",
      "metadata": {
        "id": "l8V5rlT01IKF"
      },
      "source": [
        "##Part 2 - Building and Training the RNN"
      ]
    },
    {
      "cell_type": "code",
      "metadata": {
        "id": "96MUxnJ5Wsxb",
        "colab": {
          "base_uri": "https://localhost:8080/"
        },
        "outputId": "0b2d6821-ffec-4dda-e100-0b93cfb94932"
      },
      "source": [
        "# Regularization\n",
        "l1_reg = keras.regularizers.l1(l=0.01)\n",
        "regressor = Sequential()\n",
        "regressor.add(LSTM(units = 90,activation='relu', return_sequences = False, input_shape = (trainX.shape[1], trainX.shape[2])))\n",
        "regressor.add(Dropout(0.2))\n",
        " \n",
        "#regressor.add(LSTM(units = 128,activation='relu', return_sequences = True))\n",
        "#regressor.add(Dropout(0.2))\n",
        " \n",
        "#regressor.add(LSTM(units = 50,activation='relu', return_sequences = True,kernel_regularizer=l1_reg))\n",
        "#regressor.add(Dropout(0.4))\n",
        " \n",
        "#regressor.add(LSTM(units = 50))\n",
        "#regressor.add(Dropout(0.4))\n",
        "regressor.add(Dense(units = 1))\n",
        "regressor.compile(optimizer = 'adam', loss = 'mean_squared_error',metrics=['mse', 'mae', 'mape'])\n",
        "# Create a TensorBoard logger\n",
        "csv_logger = keras.callbacks.CSVLogger(\n",
        "    'training_logs.csv', separator=',', append=False)\n",
        "RUN_NAME = \"_3L_5_10_\"\n",
        " \n",
        "checkpointer =keras.callbacks.ModelCheckpoint(filepath='models/stock.model.best.model.hdf5', \n",
        "                               verbose=1, save_best_only=True, save_weights_only=False)\n",
        "# filepath='/models/mnist.model.best.weights.{epoch:02d}-{val_loss:.2f}.hdf5\n",
        " \n",
        "log_dir = \"logs/fit/\" + RUN_NAME +datetime.datetime.now().strftime(\"%Y%m%d-%H%M%S\")\n",
        "tensorboard_callback =keras.callbacks.TensorBoard(log_dir=log_dir, histogram_freq=1)\n",
        " \n",
        "# Create EarlyStopping callback\n",
        "early_stopping =keras.callbacks.EarlyStopping(monitor='val_loss',min_delta=0.001, patience=50)\n",
        "history=regressor.fit(trainX, trainY, epochs = 150, batch_size = 16,validation_split=0.1,   callbacks=[csv_logger, tensorboard_callback , checkpointer,early_stopping])"
      ],
      "execution_count": null,
      "outputs": [
        {
          "output_type": "stream",
          "text": [
            "WARNING:tensorflow:Layer lstm will not use cuDNN kernels since it doesn't meet the criteria. It will use a generic GPU kernel as fallback when running on GPU.\n",
            "Epoch 1/150\n",
            "97/97 [==============================] - 6s 18ms/step - loss: 0.0671 - mse: 0.0671 - mae: 0.1885 - mape: 107241.0625 - val_loss: 0.0026 - val_mse: 0.0026 - val_mae: 0.0420 - val_mape: 7.1797\n",
            "\n",
            "Epoch 00001: val_loss improved from inf to 0.00261, saving model to models/stock.model.best.model.hdf5\n",
            "Epoch 2/150\n",
            "97/97 [==============================] - 1s 10ms/step - loss: 0.0044 - mse: 0.0044 - mae: 0.0531 - mape: 59365.0781 - val_loss: 6.8251e-04 - val_mse: 6.8251e-04 - val_mae: 0.0200 - val_mape: 3.4297\n",
            "\n",
            "Epoch 00002: val_loss improved from 0.00261 to 0.00068, saving model to models/stock.model.best.model.hdf5\n",
            "Epoch 3/150\n",
            "97/97 [==============================] - 1s 9ms/step - loss: 0.0035 - mse: 0.0035 - mae: 0.0455 - mape: 55409.0664 - val_loss: 7.6577e-04 - val_mse: 7.6577e-04 - val_mae: 0.0212 - val_mape: 3.5539\n",
            "\n",
            "Epoch 00003: val_loss did not improve from 0.00068\n",
            "Epoch 4/150\n",
            "97/97 [==============================] - 1s 10ms/step - loss: 0.0030 - mse: 0.0030 - mae: 0.0433 - mape: 47914.4062 - val_loss: 4.9515e-04 - val_mse: 4.9515e-04 - val_mae: 0.0174 - val_mape: 2.9678\n",
            "\n",
            "Epoch 00004: val_loss improved from 0.00068 to 0.00050, saving model to models/stock.model.best.model.hdf5\n",
            "Epoch 5/150\n",
            "97/97 [==============================] - 1s 10ms/step - loss: 0.0029 - mse: 0.0029 - mae: 0.0424 - mape: 51956.4844 - val_loss: 4.5880e-04 - val_mse: 4.5880e-04 - val_mae: 0.0162 - val_mape: 2.8037\n",
            "\n",
            "Epoch 00005: val_loss improved from 0.00050 to 0.00046, saving model to models/stock.model.best.model.hdf5\n",
            "Epoch 6/150\n",
            "97/97 [==============================] - 1s 10ms/step - loss: 0.0029 - mse: 0.0029 - mae: 0.0420 - mape: 21004.5352 - val_loss: 6.1250e-04 - val_mse: 6.1250e-04 - val_mae: 0.0188 - val_mape: 3.2010\n",
            "\n",
            "Epoch 00006: val_loss did not improve from 0.00046\n",
            "Epoch 7/150\n",
            "97/97 [==============================] - 1s 9ms/step - loss: 0.0027 - mse: 0.0027 - mae: 0.0396 - mape: 37218.1016 - val_loss: 4.3136e-04 - val_mse: 4.3136e-04 - val_mae: 0.0158 - val_mape: 2.7494\n",
            "\n",
            "Epoch 00007: val_loss improved from 0.00046 to 0.00043, saving model to models/stock.model.best.model.hdf5\n",
            "Epoch 8/150\n",
            "97/97 [==============================] - 1s 10ms/step - loss: 0.0024 - mse: 0.0024 - mae: 0.0374 - mape: 30837.1562 - val_loss: 4.2294e-04 - val_mse: 4.2294e-04 - val_mae: 0.0155 - val_mape: 2.7068\n",
            "\n",
            "Epoch 00008: val_loss improved from 0.00043 to 0.00042, saving model to models/stock.model.best.model.hdf5\n",
            "Epoch 9/150\n",
            "97/97 [==============================] - 1s 10ms/step - loss: 0.0024 - mse: 0.0024 - mae: 0.0377 - mape: 12911.0830 - val_loss: 4.5300e-04 - val_mse: 4.5300e-04 - val_mae: 0.0157 - val_mape: 2.7208\n",
            "\n",
            "Epoch 00009: val_loss did not improve from 0.00042\n",
            "Epoch 10/150\n",
            "97/97 [==============================] - 1s 10ms/step - loss: 0.0026 - mse: 0.0026 - mae: 0.0387 - mape: 38029.5938 - val_loss: 4.5918e-04 - val_mse: 4.5918e-04 - val_mae: 0.0168 - val_mape: 2.9155\n",
            "\n",
            "Epoch 00010: val_loss did not improve from 0.00042\n",
            "Epoch 11/150\n",
            "97/97 [==============================] - 1s 9ms/step - loss: 0.0023 - mse: 0.0023 - mae: 0.0359 - mape: 23229.0742 - val_loss: 8.5441e-04 - val_mse: 8.5441e-04 - val_mae: 0.0236 - val_mape: 3.9300\n",
            "\n",
            "Epoch 00011: val_loss did not improve from 0.00042\n",
            "Epoch 12/150\n",
            "97/97 [==============================] - 1s 10ms/step - loss: 0.0023 - mse: 0.0023 - mae: 0.0365 - mape: 32574.6543 - val_loss: 4.3130e-04 - val_mse: 4.3130e-04 - val_mae: 0.0153 - val_mape: 2.6617\n",
            "\n",
            "Epoch 00012: val_loss did not improve from 0.00042\n",
            "Epoch 13/150\n",
            "97/97 [==============================] - 1s 10ms/step - loss: 0.0023 - mse: 0.0023 - mae: 0.0364 - mape: 29303.7812 - val_loss: 4.3804e-04 - val_mse: 4.3804e-04 - val_mae: 0.0154 - val_mape: 2.6849\n",
            "\n",
            "Epoch 00013: val_loss did not improve from 0.00042\n",
            "Epoch 14/150\n",
            "97/97 [==============================] - 1s 10ms/step - loss: 0.0022 - mse: 0.0022 - mae: 0.0352 - mape: 38106.9258 - val_loss: 4.3130e-04 - val_mse: 4.3130e-04 - val_mae: 0.0158 - val_mape: 2.7488\n",
            "\n",
            "Epoch 00014: val_loss did not improve from 0.00042\n",
            "Epoch 15/150\n",
            "97/97 [==============================] - 1s 10ms/step - loss: 0.0021 - mse: 0.0021 - mae: 0.0346 - mape: 914.0958 - val_loss: 5.2925e-04 - val_mse: 5.2925e-04 - val_mae: 0.0184 - val_mape: 3.1928\n",
            "\n",
            "Epoch 00015: val_loss did not improve from 0.00042\n",
            "Epoch 16/150\n",
            "97/97 [==============================] - 1s 9ms/step - loss: 0.0022 - mse: 0.0022 - mae: 0.0352 - mape: 8091.3208 - val_loss: 4.3981e-04 - val_mse: 4.3981e-04 - val_mae: 0.0153 - val_mape: 2.6691\n",
            "\n",
            "Epoch 00016: val_loss did not improve from 0.00042\n",
            "Epoch 17/150\n",
            "97/97 [==============================] - 1s 10ms/step - loss: 0.0021 - mse: 0.0021 - mae: 0.0345 - mape: 35020.1641 - val_loss: 4.6135e-04 - val_mse: 4.6135e-04 - val_mae: 0.0156 - val_mape: 2.6955\n",
            "\n",
            "Epoch 00017: val_loss did not improve from 0.00042\n",
            "Epoch 18/150\n",
            "97/97 [==============================] - 1s 10ms/step - loss: 0.0020 - mse: 0.0020 - mae: 0.0344 - mape: 37641.5508 - val_loss: 4.3470e-04 - val_mse: 4.3470e-04 - val_mae: 0.0156 - val_mape: 2.7175\n",
            "\n",
            "Epoch 00018: val_loss did not improve from 0.00042\n",
            "Epoch 19/150\n",
            "97/97 [==============================] - 1s 10ms/step - loss: 0.0021 - mse: 0.0021 - mae: 0.0345 - mape: 21155.2539 - val_loss: 6.6979e-04 - val_mse: 6.6979e-04 - val_mae: 0.0200 - val_mape: 3.4314\n",
            "\n",
            "Epoch 00019: val_loss did not improve from 0.00042\n",
            "Epoch 20/150\n",
            "97/97 [==============================] - 1s 10ms/step - loss: 0.0020 - mse: 0.0020 - mae: 0.0345 - mape: 7377.4263 - val_loss: 4.6069e-04 - val_mse: 4.6069e-04 - val_mae: 0.0157 - val_mape: 2.7370\n",
            "\n",
            "Epoch 00020: val_loss did not improve from 0.00042\n",
            "Epoch 21/150\n",
            "97/97 [==============================] - 1s 10ms/step - loss: 0.0020 - mse: 0.0020 - mae: 0.0343 - mape: 3340.7812 - val_loss: 4.5815e-04 - val_mse: 4.5815e-04 - val_mae: 0.0156 - val_mape: 2.7396\n",
            "\n",
            "Epoch 00021: val_loss did not improve from 0.00042\n",
            "Epoch 22/150\n",
            "97/97 [==============================] - 1s 10ms/step - loss: 0.0020 - mse: 0.0020 - mae: 0.0342 - mape: 7589.9526 - val_loss: 4.3451e-04 - val_mse: 4.3451e-04 - val_mae: 0.0154 - val_mape: 2.7076\n",
            "\n",
            "Epoch 00022: val_loss did not improve from 0.00042\n",
            "Epoch 23/150\n",
            "97/97 [==============================] - 1s 10ms/step - loss: 0.0018 - mse: 0.0018 - mae: 0.0326 - mape: 20798.6172 - val_loss: 4.3807e-04 - val_mse: 4.3807e-04 - val_mae: 0.0156 - val_mape: 2.7381\n",
            "\n",
            "Epoch 00023: val_loss did not improve from 0.00042\n",
            "Epoch 24/150\n",
            "97/97 [==============================] - 1s 9ms/step - loss: 0.0018 - mse: 0.0018 - mae: 0.0327 - mape: 8286.8340 - val_loss: 4.8785e-04 - val_mse: 4.8785e-04 - val_mae: 0.0160 - val_mape: 2.7717\n",
            "\n",
            "Epoch 00024: val_loss did not improve from 0.00042\n",
            "Epoch 25/150\n",
            "97/97 [==============================] - 1s 10ms/step - loss: 0.0017 - mse: 0.0017 - mae: 0.0320 - mape: 19981.6406 - val_loss: 5.3685e-04 - val_mse: 5.3685e-04 - val_mae: 0.0173 - val_mape: 3.0042\n",
            "\n",
            "Epoch 00025: val_loss did not improve from 0.00042\n",
            "Epoch 26/150\n",
            "97/97 [==============================] - 1s 10ms/step - loss: 0.0017 - mse: 0.0017 - mae: 0.0318 - mape: 18508.8652 - val_loss: 4.7926e-04 - val_mse: 4.7926e-04 - val_mae: 0.0160 - val_mape: 2.7880\n",
            "\n",
            "Epoch 00026: val_loss did not improve from 0.00042\n",
            "Epoch 27/150\n",
            "97/97 [==============================] - 1s 11ms/step - loss: 0.0016 - mse: 0.0016 - mae: 0.0305 - mape: 27844.5664 - val_loss: 4.5872e-04 - val_mse: 4.5872e-04 - val_mae: 0.0165 - val_mape: 2.9069\n",
            "\n",
            "Epoch 00027: val_loss did not improve from 0.00042\n",
            "Epoch 28/150\n",
            "97/97 [==============================] - 1s 10ms/step - loss: 0.0017 - mse: 0.0017 - mae: 0.0318 - mape: 39785.8008 - val_loss: 4.2744e-04 - val_mse: 4.2744e-04 - val_mae: 0.0153 - val_mape: 2.6792\n",
            "\n",
            "Epoch 00028: val_loss did not improve from 0.00042\n",
            "Epoch 29/150\n",
            "97/97 [==============================] - 1s 10ms/step - loss: 0.0016 - mse: 0.0016 - mae: 0.0306 - mape: 22309.4902 - val_loss: 4.3096e-04 - val_mse: 4.3096e-04 - val_mae: 0.0154 - val_mape: 2.6916\n",
            "\n",
            "Epoch 00029: val_loss did not improve from 0.00042\n",
            "Epoch 30/150\n",
            "97/97 [==============================] - 1s 10ms/step - loss: 0.0016 - mse: 0.0016 - mae: 0.0307 - mape: 21963.1191 - val_loss: 4.5460e-04 - val_mse: 4.5460e-04 - val_mae: 0.0159 - val_mape: 2.8104\n",
            "\n",
            "Epoch 00030: val_loss did not improve from 0.00042\n",
            "Epoch 31/150\n",
            "97/97 [==============================] - 1s 10ms/step - loss: 0.0017 - mse: 0.0017 - mae: 0.0309 - mape: 13318.8926 - val_loss: 4.2423e-04 - val_mse: 4.2423e-04 - val_mae: 0.0155 - val_mape: 2.7086\n",
            "\n",
            "Epoch 00031: val_loss did not improve from 0.00042\n",
            "Epoch 32/150\n",
            "97/97 [==============================] - 1s 10ms/step - loss: 0.0017 - mse: 0.0017 - mae: 0.0309 - mape: 35296.4844 - val_loss: 4.5071e-04 - val_mse: 4.5071e-04 - val_mae: 0.0155 - val_mape: 2.7038\n",
            "\n",
            "Epoch 00032: val_loss did not improve from 0.00042\n",
            "Epoch 33/150\n",
            "97/97 [==============================] - 1s 10ms/step - loss: 0.0016 - mse: 0.0016 - mae: 0.0297 - mape: 29873.7129 - val_loss: 4.1305e-04 - val_mse: 4.1305e-04 - val_mae: 0.0151 - val_mape: 2.6425\n",
            "\n",
            "Epoch 00033: val_loss improved from 0.00042 to 0.00041, saving model to models/stock.model.best.model.hdf5\n",
            "Epoch 34/150\n",
            "97/97 [==============================] - 1s 10ms/step - loss: 0.0014 - mse: 0.0014 - mae: 0.0289 - mape: 31313.5645 - val_loss: 4.4750e-04 - val_mse: 4.4750e-04 - val_mae: 0.0155 - val_mape: 2.7124\n",
            "\n",
            "Epoch 00034: val_loss did not improve from 0.00041\n",
            "Epoch 35/150\n",
            "97/97 [==============================] - 1s 10ms/step - loss: 0.0014 - mse: 0.0014 - mae: 0.0287 - mape: 25091.2207 - val_loss: 4.3854e-04 - val_mse: 4.3854e-04 - val_mae: 0.0154 - val_mape: 2.6714\n",
            "\n",
            "Epoch 00035: val_loss did not improve from 0.00041\n",
            "Epoch 36/150\n",
            "97/97 [==============================] - 1s 10ms/step - loss: 0.0014 - mse: 0.0014 - mae: 0.0287 - mape: 28029.4316 - val_loss: 4.9168e-04 - val_mse: 4.9168e-04 - val_mae: 0.0163 - val_mape: 2.8219\n",
            "\n",
            "Epoch 00036: val_loss did not improve from 0.00041\n",
            "Epoch 37/150\n",
            "97/97 [==============================] - 1s 10ms/step - loss: 0.0014 - mse: 0.0014 - mae: 0.0285 - mape: 16036.7715 - val_loss: 5.3850e-04 - val_mse: 5.3850e-04 - val_mae: 0.0172 - val_mape: 2.9239\n",
            "\n",
            "Epoch 00037: val_loss did not improve from 0.00041\n",
            "Epoch 38/150\n",
            "97/97 [==============================] - 1s 10ms/step - loss: 0.0014 - mse: 0.0014 - mae: 0.0283 - mape: 8166.1724 - val_loss: 5.7091e-04 - val_mse: 5.7091e-04 - val_mae: 0.0190 - val_mape: 3.3831\n",
            "\n",
            "Epoch 00038: val_loss did not improve from 0.00041\n",
            "Epoch 39/150\n",
            "97/97 [==============================] - 1s 10ms/step - loss: 0.0014 - mse: 0.0014 - mae: 0.0283 - mape: 46559.2930 - val_loss: 5.1234e-04 - val_mse: 5.1234e-04 - val_mae: 0.0165 - val_mape: 2.8711\n",
            "\n",
            "Epoch 00039: val_loss did not improve from 0.00041\n",
            "Epoch 40/150\n",
            "97/97 [==============================] - 1s 10ms/step - loss: 0.0014 - mse: 0.0014 - mae: 0.0283 - mape: 20557.2773 - val_loss: 4.3591e-04 - val_mse: 4.3591e-04 - val_mae: 0.0155 - val_mape: 2.7425\n",
            "\n",
            "Epoch 00040: val_loss did not improve from 0.00041\n",
            "Epoch 41/150\n",
            "97/97 [==============================] - 1s 11ms/step - loss: 0.0013 - mse: 0.0013 - mae: 0.0276 - mape: 33258.6445 - val_loss: 7.2781e-04 - val_mse: 7.2781e-04 - val_mae: 0.0213 - val_mape: 3.5663\n",
            "\n",
            "Epoch 00041: val_loss did not improve from 0.00041\n",
            "Epoch 42/150\n",
            "97/97 [==============================] - 1s 10ms/step - loss: 0.0013 - mse: 0.0013 - mae: 0.0279 - mape: 18882.0703 - val_loss: 4.2352e-04 - val_mse: 4.2352e-04 - val_mae: 0.0154 - val_mape: 2.7245\n",
            "\n",
            "Epoch 00042: val_loss did not improve from 0.00041\n",
            "Epoch 43/150\n",
            "97/97 [==============================] - 1s 10ms/step - loss: 0.0013 - mse: 0.0013 - mae: 0.0270 - mape: 32921.1758 - val_loss: 4.2801e-04 - val_mse: 4.2801e-04 - val_mae: 0.0155 - val_mape: 2.7302\n",
            "\n",
            "Epoch 00043: val_loss did not improve from 0.00041\n",
            "Epoch 44/150\n",
            "97/97 [==============================] - 1s 10ms/step - loss: 0.0012 - mse: 0.0012 - mae: 0.0269 - mape: 7699.9033 - val_loss: 5.4112e-04 - val_mse: 5.4112e-04 - val_mae: 0.0185 - val_mape: 3.3409\n",
            "\n",
            "Epoch 00044: val_loss did not improve from 0.00041\n",
            "Epoch 45/150\n",
            "97/97 [==============================] - 1s 10ms/step - loss: 0.0012 - mse: 0.0012 - mae: 0.0264 - mape: 6827.1123 - val_loss: 4.2943e-04 - val_mse: 4.2943e-04 - val_mae: 0.0154 - val_mape: 2.7109\n",
            "\n",
            "Epoch 00045: val_loss did not improve from 0.00041\n",
            "Epoch 46/150\n",
            "97/97 [==============================] - 1s 10ms/step - loss: 0.0012 - mse: 0.0012 - mae: 0.0270 - mape: 56323.4258 - val_loss: 5.8400e-04 - val_mse: 5.8400e-04 - val_mae: 0.0181 - val_mape: 3.0815\n",
            "\n",
            "Epoch 00046: val_loss did not improve from 0.00041\n",
            "Epoch 47/150\n",
            "97/97 [==============================] - 1s 10ms/step - loss: 0.0013 - mse: 0.0013 - mae: 0.0271 - mape: 319.8570 - val_loss: 4.4009e-04 - val_mse: 4.4009e-04 - val_mae: 0.0155 - val_mape: 2.6998\n",
            "\n",
            "Epoch 00047: val_loss did not improve from 0.00041\n",
            "Epoch 48/150\n",
            "97/97 [==============================] - 1s 10ms/step - loss: 0.0011 - mse: 0.0011 - mae: 0.0260 - mape: 58737.3633 - val_loss: 4.5519e-04 - val_mse: 4.5519e-04 - val_mae: 0.0166 - val_mape: 2.9127\n",
            "\n",
            "Epoch 00048: val_loss did not improve from 0.00041\n",
            "Epoch 49/150\n",
            "97/97 [==============================] - 1s 10ms/step - loss: 0.0012 - mse: 0.0012 - mae: 0.0260 - mape: 8063.5205 - val_loss: 4.1685e-04 - val_mse: 4.1685e-04 - val_mae: 0.0152 - val_mape: 2.6650\n",
            "\n",
            "Epoch 00049: val_loss did not improve from 0.00041\n",
            "Epoch 50/150\n",
            "97/97 [==============================] - 1s 10ms/step - loss: 0.0012 - mse: 0.0012 - mae: 0.0257 - mape: 48323.9570 - val_loss: 4.5080e-04 - val_mse: 4.5080e-04 - val_mae: 0.0162 - val_mape: 2.8689\n",
            "\n",
            "Epoch 00050: val_loss did not improve from 0.00041\n",
            "Epoch 51/150\n",
            "97/97 [==============================] - 1s 10ms/step - loss: 0.0012 - mse: 0.0012 - mae: 0.0258 - mape: 24019.9902 - val_loss: 4.4184e-04 - val_mse: 4.4184e-04 - val_mae: 0.0154 - val_mape: 2.6880\n",
            "\n",
            "Epoch 00051: val_loss did not improve from 0.00041\n",
            "Epoch 52/150\n",
            "97/97 [==============================] - 1s 10ms/step - loss: 0.0013 - mse: 0.0013 - mae: 0.0269 - mape: 53927.4492 - val_loss: 4.0795e-04 - val_mse: 4.0795e-04 - val_mae: 0.0152 - val_mape: 2.6730\n",
            "\n",
            "Epoch 00052: val_loss improved from 0.00041 to 0.00041, saving model to models/stock.model.best.model.hdf5\n"
          ],
          "name": "stdout"
        }
      ]
    },
    {
      "cell_type": "code",
      "metadata": {
        "id": "yN3MfFOiIEtY"
      },
      "source": [
        ""
      ],
      "execution_count": null,
      "outputs": []
    },
    {
      "cell_type": "code",
      "metadata": {
        "id": "Vh_tOvIriJSH",
        "colab": {
          "base_uri": "https://localhost:8080/"
        },
        "outputId": "529b6bfa-fc84-43be-d9f1-2f70360cd882"
      },
      "source": [
        "# Get the test score\n",
        "test_error_rate = regressor.evaluate(testX,testY,verbose=1)\n"
      ],
      "execution_count": null,
      "outputs": [
        {
          "output_type": "stream",
          "text": [
            "14/14 [==============================] - 0s 4ms/step - loss: 6.3107e-04 - mse: 6.3107e-04 - mae: 0.0168 - mape: 3.4584\n"
          ],
          "name": "stdout"
        }
      ]
    },
    {
      "cell_type": "code",
      "metadata": {
        "id": "bl8QS1vpqBTJ",
        "colab": {
          "base_uri": "https://localhost:8080/"
        },
        "outputId": "63c9a8db-5b9a-4d3e-e0a3-c70d0c8634c2"
      },
      "source": [
        "regressor.summary() \n"
      ],
      "execution_count": null,
      "outputs": [
        {
          "output_type": "stream",
          "text": [
            "Model: \"sequential\"\n",
            "_________________________________________________________________\n",
            "Layer (type)                 Output Shape              Param #   \n",
            "=================================================================\n",
            "lstm (LSTM)                  (None, 90)                36000     \n",
            "_________________________________________________________________\n",
            "dropout (Dropout)            (None, 90)                0         \n",
            "_________________________________________________________________\n",
            "dense (Dense)                (None, 1)                 91        \n",
            "=================================================================\n",
            "Total params: 36,091\n",
            "Trainable params: 36,091\n",
            "Non-trainable params: 0\n",
            "_________________________________________________________________\n"
          ],
          "name": "stdout"
        }
      ]
    },
    {
      "cell_type": "markdown",
      "metadata": {
        "id": "2TMNCmJk1jZn"
      },
      "source": [
        "## Part 3 - Making the predictions and visualising the results"
      ]
    },
    {
      "cell_type": "code",
      "metadata": {
        "id": "dVZoKdcD1MMi"
      },
      "source": [
        "trainPredict = regressor.predict(trainX)\n",
        "testPredict = regressor.predict(testX)"
      ],
      "execution_count": null,
      "outputs": []
    },
    {
      "cell_type": "code",
      "metadata": {
        "id": "wl0wiUnm1Fjd",
        "colab": {
          "base_uri": "https://localhost:8080/"
        },
        "outputId": "15d887d3-6189-44b9-bf05-3d3d29a5bfd9"
      },
      "source": [
        "scaler.min_,scaler.scale_,scaler.data_min_,scaler.data_max_"
      ],
      "execution_count": null,
      "outputs": [
        {
          "output_type": "execute_result",
          "data": {
            "text/plain": [
              "(array([-0.46738228,  0.4132965 , -0.15564488, -0.07633393, -0.09402645,\n",
              "        -0.48046955, -0.6094118 , -0.47323477, -0.4669148 , -0.46707085],\n",
              "       dtype=float32),\n",
              " array([0.08257638, 0.01882341, 0.01360659, 0.01162691, 0.01206054,\n",
              "        0.08806729, 0.09963135, 0.08331598, 0.08271299, 0.0826674 ],\n",
              "       dtype=float32),\n",
              " array([  5.66     , -21.95652  ,  11.438933 ,   6.565281 ,   7.7962046,\n",
              "          5.4557095,   6.116667 ,   5.68     ,   5.645    ,   5.65     ],\n",
              "       dtype=float32),\n",
              " array([17.77    , 31.168829, 84.93273 , 92.572655, 90.71121 , 16.810663,\n",
              "        16.153667, 17.682499, 17.735   , 17.746666], dtype=float32))"
            ]
          },
          "metadata": {},
          "execution_count": 77
        }
      ]
    },
    {
      "cell_type": "code",
      "metadata": {
        "id": "a95zZRWhBeOT"
      },
      "source": [
        "from sklearn.preprocessing import MinMaxScaler\n",
        "scaler1 = MinMaxScaler(feature_range=(0,1))"
      ],
      "execution_count": null,
      "outputs": []
    },
    {
      "cell_type": "code",
      "metadata": {
        "id": "u37_Ya7uBoNY"
      },
      "source": [
        "scaler1.min_,scaler1.scale_=scaler.min_[0],scaler.scale_[0]"
      ],
      "execution_count": null,
      "outputs": []
    },
    {
      "cell_type": "markdown",
      "metadata": {
        "id": "lT5LU4PWx112"
      },
      "source": [
        "## Reverse Price Value"
      ]
    },
    {
      "cell_type": "code",
      "metadata": {
        "id": "Q2Za5VdPBuvQ"
      },
      "source": [
        "trainPredict=scaler1.inverse_transform(trainPredict)"
      ],
      "execution_count": null,
      "outputs": []
    },
    {
      "cell_type": "code",
      "metadata": {
        "id": "9aFnQnecByhp"
      },
      "source": [
        "testPredict = scaler1.inverse_transform(testPredict)"
      ],
      "execution_count": null,
      "outputs": []
    },
    {
      "cell_type": "code",
      "metadata": {
        "id": "6fgJ-n6hB1Zi"
      },
      "source": [
        "trainY=scaler1.inverse_transform(trainY)"
      ],
      "execution_count": null,
      "outputs": []
    },
    {
      "cell_type": "code",
      "metadata": {
        "id": "yODDSBclB5UD"
      },
      "source": [
        "testY=scaler1.inverse_transform(testY)"
      ],
      "execution_count": null,
      "outputs": []
    },
    {
      "cell_type": "code",
      "metadata": {
        "id": "-fz_g2d9CN4A",
        "colab": {
          "base_uri": "https://localhost:8080/"
        },
        "outputId": "40e5d60e-7441-4590-c9c1-9164cf9daf3b"
      },
      "source": [
        "trainPredict[0:5]"
      ],
      "execution_count": null,
      "outputs": [
        {
          "output_type": "execute_result",
          "data": {
            "text/plain": [
              "array([[14.799312 ],\n",
              "       [14.901171 ],\n",
              "       [14.9361105],\n",
              "       [14.618024 ],\n",
              "       [14.097439 ]], dtype=float32)"
            ]
          },
          "metadata": {},
          "execution_count": 84
        }
      ]
    },
    {
      "cell_type": "code",
      "metadata": {
        "id": "oZT8iyYTCSDk",
        "colab": {
          "base_uri": "https://localhost:8080/"
        },
        "outputId": "5944c417-1d22-4628-accf-c08012aab0cb"
      },
      "source": [
        "trainY[0:5]"
      ],
      "execution_count": null,
      "outputs": [
        {
          "output_type": "execute_result",
          "data": {
            "text/plain": [
              "array([[14.97    ],\n",
              "       [15.      ],\n",
              "       [14.610001],\n",
              "       [14.11    ],\n",
              "       [14.04    ]], dtype=float32)"
            ]
          },
          "metadata": {},
          "execution_count": 85
        }
      ]
    },
    {
      "cell_type": "code",
      "metadata": {
        "id": "RIUiesXeCabP",
        "colab": {
          "base_uri": "https://localhost:8080/"
        },
        "outputId": "2458ef38-c9f0-4f46-ff5f-b8071575261a"
      },
      "source": [
        "testY[0:5]"
      ],
      "execution_count": null,
      "outputs": [
        {
          "output_type": "execute_result",
          "data": {
            "text/plain": [
              "array([[14.479999],\n",
              "       [14.54    ],\n",
              "       [14.610001],\n",
              "       [15.12    ],\n",
              "       [14.97    ]], dtype=float32)"
            ]
          },
          "metadata": {},
          "execution_count": 86
        }
      ]
    },
    {
      "cell_type": "code",
      "metadata": {
        "id": "jVI04G8GCc4Q",
        "colab": {
          "base_uri": "https://localhost:8080/"
        },
        "outputId": "58f03541-a5b9-4409-8c31-42c891d8e238"
      },
      "source": [
        "testPredict[0:5]"
      ],
      "execution_count": null,
      "outputs": [
        {
          "output_type": "execute_result",
          "data": {
            "text/plain": [
              "array([[14.454505],\n",
              "       [14.45643 ],\n",
              "       [14.497067],\n",
              "       [14.573146],\n",
              "       [14.973362]], dtype=float32)"
            ]
          },
          "metadata": {},
          "execution_count": 87
        }
      ]
    },
    {
      "cell_type": "markdown",
      "metadata": {
        "id": "mTetUYlW0AEf"
      },
      "source": [
        "## RMSE"
      ]
    },
    {
      "cell_type": "code",
      "metadata": {
        "id": "7ss-83v4Cns7",
        "colab": {
          "base_uri": "https://localhost:8080/"
        },
        "outputId": "ee50cfbc-babc-49bc-8cbf-c09499d0efe0"
      },
      "source": [
        "import math\n",
        "from sklearn.metrics import mean_squared_error\n",
        "trainScore = math.sqrt(mean_squared_error(trainY, trainPredict))\n",
        "print('Train Score: %.2f RMSE' % (trainScore))\n",
        "testScore = math.sqrt(mean_squared_error(testY, testPredict))\n",
        "print('Test Score: %.2f RMSE' % (testScore))"
      ],
      "execution_count": null,
      "outputs": [
        {
          "output_type": "stream",
          "text": [
            "Train Score: 0.24 RMSE\n",
            "Test Score: 0.30 RMSE\n"
          ],
          "name": "stdout"
        }
      ]
    },
    {
      "cell_type": "markdown",
      "metadata": {
        "id": "ovkNA5Ba0DGk"
      },
      "source": [
        "## MAE"
      ]
    },
    {
      "cell_type": "code",
      "metadata": {
        "id": "vFiFOTM_CpaL"
      },
      "source": [
        "MAE=np.mean(np.abs(testPredict-testY))"
      ],
      "execution_count": null,
      "outputs": []
    },
    {
      "cell_type": "code",
      "metadata": {
        "id": "stQxUobiCyDG",
        "colab": {
          "base_uri": "https://localhost:8080/"
        },
        "outputId": "c630625b-4f9a-41b0-e526-1c684519eeb6"
      },
      "source": [
        "MAE"
      ],
      "execution_count": null,
      "outputs": [
        {
          "output_type": "execute_result",
          "data": {
            "text/plain": [
              "0.20324779"
            ]
          },
          "metadata": {},
          "execution_count": 90
        }
      ]
    },
    {
      "cell_type": "code",
      "metadata": {
        "id": "MLaZXFM8RXGJ"
      },
      "source": [
        ""
      ],
      "execution_count": null,
      "outputs": []
    },
    {
      "cell_type": "code",
      "metadata": {
        "id": "a2Q9v8xnnC68"
      },
      "source": [
        "MAE_train=np.mean(np.abs(trainPredict-trainY))"
      ],
      "execution_count": null,
      "outputs": []
    },
    {
      "cell_type": "code",
      "metadata": {
        "id": "ZNSjWqJ-RXd1",
        "colab": {
          "base_uri": "https://localhost:8080/"
        },
        "outputId": "dcb7e1d7-ec23-467b-e966-7ab1ed8080bf"
      },
      "source": [
        "MAE_train"
      ],
      "execution_count": null,
      "outputs": [
        {
          "output_type": "execute_result",
          "data": {
            "text/plain": [
              "0.174878"
            ]
          },
          "metadata": {},
          "execution_count": 92
        }
      ]
    },
    {
      "cell_type": "markdown",
      "metadata": {
        "id": "eiemDaQx0Mw-"
      },
      "source": [
        "## MAPE"
      ]
    },
    {
      "cell_type": "code",
      "metadata": {
        "id": "TbLSO5uXDudH"
      },
      "source": [
        "import numpy as np\n",
        "\n",
        "def mape(actual, pred): \n",
        "    actual, pred = np.array(actual), np.array(pred)\n",
        "    return np.mean(np.abs((actual - pred) / actual)) * 100"
      ],
      "execution_count": null,
      "outputs": []
    },
    {
      "cell_type": "code",
      "metadata": {
        "id": "EqeJ-fkgDxD9",
        "colab": {
          "base_uri": "https://localhost:8080/"
        },
        "outputId": "e6e4f8ff-c9d7-49d8-f474-340ccada3cda"
      },
      "source": [
        "mape(testY,testPredict)"
      ],
      "execution_count": null,
      "outputs": [
        {
          "output_type": "execute_result",
          "data": {
            "text/plain": [
              "1.7223760485649109"
            ]
          },
          "metadata": {},
          "execution_count": 94
        }
      ]
    },
    {
      "cell_type": "code",
      "metadata": {
        "id": "X0OES8STRdFc",
        "colab": {
          "base_uri": "https://localhost:8080/"
        },
        "outputId": "f90d9aef-315b-4682-9246-498cee8e7971"
      },
      "source": [
        "mape(trainY,trainPredict)"
      ],
      "execution_count": null,
      "outputs": [
        {
          "output_type": "execute_result",
          "data": {
            "text/plain": [
              "1.5384851023554802"
            ]
          },
          "metadata": {},
          "execution_count": 95
        }
      ]
    },
    {
      "cell_type": "code",
      "metadata": {
        "id": "OtZXCjT6C72-"
      },
      "source": [
        "%tensorboard --logdir logs/fit"
      ],
      "execution_count": null,
      "outputs": []
    },
    {
      "cell_type": "code",
      "metadata": {
        "id": "rZUjTvvpEFSV",
        "colab": {
          "base_uri": "https://localhost:8080/",
          "height": 559
        },
        "outputId": "d9d739d6-14c1-4f7d-d317-6ee0260e1a3c"
      },
      "source": [
        "plt.figure(figsize=(16,8))\n",
        "plt.plot(testY)\n",
        "plt.plot(testPredict)\n",
        "plt.title('ETEL Stock Price')\n",
        "plt.legend(['Real Price','Predicted Price'], loc='lower right')\n",
        "plt.xlabel('Trading Days', fontsize=18)\n",
        "plt.ylabel(' Close Price', fontsize=18)\n",
        "plt.show()\n"
      ],
      "execution_count": null,
      "outputs": [
        {
          "output_type": "display_data",
          "data": {
            "image/png": "[encoded data removed]",
            "text/plain": [
              "<Figure size 1152x576 with 1 Axes>"
            ]
          },
          "metadata": {}
        }
      ]
    },
    {
      "cell_type": "code",
      "metadata": {
        "id": "Ls7ZAtPvupvb"
      },
      "source": [
        ""
      ],
      "execution_count": null,
      "outputs": []
    },
    {
      "cell_type": "code",
      "metadata": {
        "id": "_WVZYuOIu1z6"
      },
      "source": [
        ""
      ],
      "execution_count": null,
      "outputs": []
    },
    {
      "cell_type": "code",
      "metadata": {
        "id": "Qd6ym72ju2U_"
      },
      "source": [
        ""
      ],
      "execution_count": null,
      "outputs": []
    },
    {
      "cell_type": "code",
      "metadata": {
        "id": "hYw3oUI2u2wj"
      },
      "source": [
        ""
      ],
      "execution_count": null,
      "outputs": []
    },
    {
      "cell_type": "code",
      "metadata": {
        "id": "vIX9A1GouqS9"
      },
      "source": [
        ""
      ],
      "execution_count": null,
      "outputs": []
    },
    {
      "cell_type": "code",
      "metadata": {
        "id": "kEbudI44uqrp"
      },
      "source": [
        ""
      ],
      "execution_count": null,
      "outputs": []
    },
    {
      "cell_type": "code",
      "metadata": {
        "id": "d2jdoIYourGe"
      },
      "source": [
        ""
      ],
      "execution_count": null,
      "outputs": []
    },
    {
      "cell_type": "code",
      "metadata": {
        "id": "zRiqCWS1urgT"
      },
      "source": [
        ""
      ],
      "execution_count": null,
      "outputs": []
    },
    {
      "cell_type": "code",
      "metadata": {
        "id": "a60JUtSXur6j"
      },
      "source": [
        ""
      ],
      "execution_count": null,
      "outputs": []
    },
    {
      "cell_type": "code",
      "metadata": {
        "id": "kuI-yF59usb0"
      },
      "source": [
        ""
      ],
      "execution_count": null,
      "outputs": []
    },
    {
      "cell_type": "code",
      "metadata": {
        "id": "RvwqBLUWFPh8",
        "colab": {
          "base_uri": "https://localhost:8080/",
          "height": 661
        },
        "outputId": "69fe0a14-e78f-456e-ebca-3f9e07e50d08"
      },
      "source": [
        "# Plot the data\n",
        "train = dataset[:1713]\n",
        "valid = dataset[1713:]\n",
        "valid['Predictions'] = testPredict\n",
        "# Visualize the data\n",
        "plt.figure(figsize=(16,8))\n",
        "plt.title('Model')\n",
        "plt.xlabel('Date', fontsize=18)\n",
        "plt.ylabel('Close Price', fontsize=18)\n",
        "plt.plot(train['Price'])\n",
        "plt.plot(valid[['Price', 'Predictions']])\n",
        "plt.legend(['Train', 'Test', 'Predictions'], loc='lower right')\n",
        "plt.show()"
      ],
      "execution_count": null,
      "outputs": [
        {
          "output_type": "stream",
          "text": [
            "/usr/local/lib/python3.7/dist-packages/ipykernel_launcher.py:4: SettingWithCopyWarning: \n",
            "A value is trying to be set on a copy of a slice from a DataFrame.\n",
            "Try using .loc[row_indexer,col_indexer] = value instead\n",
            "\n",
            "See the caveats in the documentation: https://pandas.pydata.org/pandas-docs/stable/user_guide/indexing.html#returning-a-view-versus-a-copy\n",
            "  after removing the cwd from sys.path.\n"
          ],
          "name": "stderr"
        },
        {
          "output_type": "display_data",
          "data": {
            "image/png": "[encoded data removed]",
            "text/plain": [
              "<Figure size 1152x576 with 1 Axes>"
            ]
          },
          "metadata": {}
        }
      ]
    },
    {
      "cell_type": "markdown",
      "metadata": {
        "id": "v70ydln5BY2d"
      },
      "source": [
        "\n",
        "\n",
        "**Plot Validation curve using data history**\n"
      ]
    },
    {
      "cell_type": "code",
      "metadata": {
        "id": "vForO2hyKZkP",
        "colab": {
          "base_uri": "https://localhost:8080/",
          "height": 1255
        },
        "outputId": "177bfb46-f5b7-4c2a-9c74-b16ca95e439f"
      },
      "source": [
        "plt.plot(history.history['loss'])\n",
        "plt.plot(history.history['val_loss'])\n",
        "plt.title('model loss')\n",
        "plt.ylabel('loss')\n",
        "plt.xlabel('epoch')\n",
        "plt.legend(['train', 'test'], loc='upper left')\n",
        "plt.show()"
      ],
      "execution_count": null,
      "outputs": [
        {
          "output_type": "display_data",
          "data": {
            "image/png": "[encoded data removed]",
            "text/plain": [
              "<Figure size 1080x1440 with 1 Axes>"
            ]
          },
          "metadata": {}
        }
      ]
    },
    {
      "cell_type": "markdown",
      "metadata": {
        "id": "Gdwz95Pz2Ij8"
      },
      "source": [
        "## Make New dataset for stacking"
      ]
    },
    {
      "cell_type": "code",
      "metadata": {
        "id": "BHsj9bUsvnz1"
      },
      "source": [
        "realY = dataset.iloc[1:1712,0]\n"
      ],
      "execution_count": null,
      "outputs": []
    },
    {
      "cell_type": "code",
      "metadata": {
        "id": "fJh7ffvUwWx-"
      },
      "source": [
        "realY=pd.DataFrame(realY)"
      ],
      "execution_count": null,
      "outputs": []
    },
    {
      "cell_type": "code",
      "metadata": {
        "id": "jdCgCJGHMuWa"
      },
      "source": [
        "realY['P_PRE_TI']=trainPredict"
      ],
      "execution_count": null,
      "outputs": []
    },
    {
      "cell_type": "code",
      "metadata": {
        "id": "1IPVPDseMgXm",
        "colab": {
          "base_uri": "https://localhost:8080/",
          "height": 235
        },
        "outputId": "6ceb59c5-33ea-4a7a-e579-384d0759155e"
      },
      "source": [
        "realY.head()"
      ],
      "execution_count": null,
      "outputs": [
        {
          "output_type": "execute_result",
          "data": {
            "text/html": [
              "<div>\n",
              "<style scoped>\n",
              "    .dataframe tbody tr th:only-of-type {\n",
              "        vertical-align: middle;\n",
              "    }\n",
              "\n",
              "    .dataframe tbody tr th {\n",
              "        vertical-align: top;\n",
              "    }\n",
              "\n",
              "    .dataframe thead th {\n",
              "        text-align: right;\n",
              "    }\n",
              "</style>\n",
              "<table border=\"1\" class=\"dataframe\">\n",
              "  <thead>\n",
              "    <tr style=\"text-align: right;\">\n",
              "      <th></th>\n",
              "      <th>Price</th>\n",
              "      <th>P_PRE_TI</th>\n",
              "    </tr>\n",
              "    <tr>\n",
              "      <th>datetime</th>\n",
              "      <th></th>\n",
              "      <th></th>\n",
              "    </tr>\n",
              "  </thead>\n",
              "  <tbody>\n",
              "    <tr>\n",
              "      <th>2012-03-21</th>\n",
              "      <td>14.97</td>\n",
              "      <td>14.799312</td>\n",
              "    </tr>\n",
              "    <tr>\n",
              "      <th>2012-03-22</th>\n",
              "      <td>15.00</td>\n",
              "      <td>14.901171</td>\n",
              "    </tr>\n",
              "    <tr>\n",
              "      <th>2012-03-25</th>\n",
              "      <td>14.61</td>\n",
              "      <td>14.936110</td>\n",
              "    </tr>\n",
              "    <tr>\n",
              "      <th>2012-03-26</th>\n",
              "      <td>14.11</td>\n",
              "      <td>14.618024</td>\n",
              "    </tr>\n",
              "    <tr>\n",
              "      <th>2012-03-27</th>\n",
              "      <td>14.04</td>\n",
              "      <td>14.097439</td>\n",
              "    </tr>\n",
              "  </tbody>\n",
              "</table>\n",
              "</div>"
            ],
            "text/plain": [
              "            Price   P_PRE_TI\n",
              "datetime                    \n",
              "2012-03-21  14.97  14.799312\n",
              "2012-03-22  15.00  14.901171\n",
              "2012-03-25  14.61  14.936110\n",
              "2012-03-26  14.11  14.618024\n",
              "2012-03-27  14.04  14.097439"
            ]
          },
          "metadata": {},
          "execution_count": 103
        }
      ]
    },
    {
      "cell_type": "code",
      "metadata": {
        "id": "UtDuKhw90_LJ",
        "colab": {
          "base_uri": "https://localhost:8080/",
          "height": 235
        },
        "outputId": "95c01dd4-61d3-4115-cd53-442162ebbb06"
      },
      "source": [
        "realY.tail()"
      ],
      "execution_count": null,
      "outputs": [
        {
          "output_type": "execute_result",
          "data": {
            "text/html": [
              "<div>\n",
              "<style scoped>\n",
              "    .dataframe tbody tr th:only-of-type {\n",
              "        vertical-align: middle;\n",
              "    }\n",
              "\n",
              "    .dataframe tbody tr th {\n",
              "        vertical-align: top;\n",
              "    }\n",
              "\n",
              "    .dataframe thead th {\n",
              "        text-align: right;\n",
              "    }\n",
              "</style>\n",
              "<table border=\"1\" class=\"dataframe\">\n",
              "  <thead>\n",
              "    <tr style=\"text-align: right;\">\n",
              "      <th></th>\n",
              "      <th>Price</th>\n",
              "      <th>P_PRE_TI</th>\n",
              "    </tr>\n",
              "    <tr>\n",
              "      <th>datetime</th>\n",
              "      <th></th>\n",
              "      <th></th>\n",
              "    </tr>\n",
              "  </thead>\n",
              "  <tbody>\n",
              "    <tr>\n",
              "      <th>2019-03-19</th>\n",
              "      <td>14.32</td>\n",
              "      <td>14.467518</td>\n",
              "    </tr>\n",
              "    <tr>\n",
              "      <th>2019-03-20</th>\n",
              "      <td>14.25</td>\n",
              "      <td>14.341963</td>\n",
              "    </tr>\n",
              "    <tr>\n",
              "      <th>2019-03-21</th>\n",
              "      <td>14.38</td>\n",
              "      <td>14.201173</td>\n",
              "    </tr>\n",
              "    <tr>\n",
              "      <th>2019-03-24</th>\n",
              "      <td>14.46</td>\n",
              "      <td>14.337415</td>\n",
              "    </tr>\n",
              "    <tr>\n",
              "      <th>2019-03-25</th>\n",
              "      <td>14.28</td>\n",
              "      <td>14.442375</td>\n",
              "    </tr>\n",
              "  </tbody>\n",
              "</table>\n",
              "</div>"
            ],
            "text/plain": [
              "            Price   P_PRE_TI\n",
              "datetime                    \n",
              "2019-03-19  14.32  14.467518\n",
              "2019-03-20  14.25  14.341963\n",
              "2019-03-21  14.38  14.201173\n",
              "2019-03-24  14.46  14.337415\n",
              "2019-03-25  14.28  14.442375"
            ]
          },
          "metadata": {},
          "execution_count": 104
        }
      ]
    },
    {
      "cell_type": "code",
      "metadata": {
        "id": "vnGnsw5TNxni"
      },
      "source": [
        "TESTY=pd.DataFrame(dataset.iloc[1713:,0])"
      ],
      "execution_count": null,
      "outputs": []
    },
    {
      "cell_type": "code",
      "metadata": {
        "id": "Qi6T76MSN_96"
      },
      "source": [
        "TESTY['P_test_pre_TI']=testPredict"
      ],
      "execution_count": null,
      "outputs": []
    },
    {
      "cell_type": "code",
      "metadata": {
        "id": "jY8hE55OOLDJ",
        "colab": {
          "base_uri": "https://localhost:8080/",
          "height": 235
        },
        "outputId": "c587a646-28d3-4b04-cc2a-9e4893b77759"
      },
      "source": [
        "TESTY.head()"
      ],
      "execution_count": null,
      "outputs": [
        {
          "output_type": "execute_result",
          "data": {
            "text/html": [
              "<div>\n",
              "<style scoped>\n",
              "    .dataframe tbody tr th:only-of-type {\n",
              "        vertical-align: middle;\n",
              "    }\n",
              "\n",
              "    .dataframe tbody tr th {\n",
              "        vertical-align: top;\n",
              "    }\n",
              "\n",
              "    .dataframe thead th {\n",
              "        text-align: right;\n",
              "    }\n",
              "</style>\n",
              "<table border=\"1\" class=\"dataframe\">\n",
              "  <thead>\n",
              "    <tr style=\"text-align: right;\">\n",
              "      <th></th>\n",
              "      <th>Price</th>\n",
              "      <th>P_test_pre_TI</th>\n",
              "    </tr>\n",
              "    <tr>\n",
              "      <th>datetime</th>\n",
              "      <th></th>\n",
              "      <th></th>\n",
              "    </tr>\n",
              "  </thead>\n",
              "  <tbody>\n",
              "    <tr>\n",
              "      <th>2019-03-27</th>\n",
              "      <td>14.48</td>\n",
              "      <td>14.454505</td>\n",
              "    </tr>\n",
              "    <tr>\n",
              "      <th>2019-03-28</th>\n",
              "      <td>14.54</td>\n",
              "      <td>14.456430</td>\n",
              "    </tr>\n",
              "    <tr>\n",
              "      <th>2019-03-31</th>\n",
              "      <td>14.61</td>\n",
              "      <td>14.497067</td>\n",
              "    </tr>\n",
              "    <tr>\n",
              "      <th>2019-04-01</th>\n",
              "      <td>15.12</td>\n",
              "      <td>14.573146</td>\n",
              "    </tr>\n",
              "    <tr>\n",
              "      <th>2019-04-02</th>\n",
              "      <td>14.97</td>\n",
              "      <td>14.973362</td>\n",
              "    </tr>\n",
              "  </tbody>\n",
              "</table>\n",
              "</div>"
            ],
            "text/plain": [
              "            Price  P_test_pre_TI\n",
              "datetime                        \n",
              "2019-03-27  14.48      14.454505\n",
              "2019-03-28  14.54      14.456430\n",
              "2019-03-31  14.61      14.497067\n",
              "2019-04-01  15.12      14.573146\n",
              "2019-04-02  14.97      14.973362"
            ]
          },
          "metadata": {},
          "execution_count": 107
        }
      ]
    },
    {
      "cell_type": "code",
      "metadata": {
        "id": "n23BfLST03Ze",
        "colab": {
          "base_uri": "https://localhost:8080/",
          "height": 235
        },
        "outputId": "9dabf380-6013-4fb4-c42c-f56be7d95f7f"
      },
      "source": [
        "TESTY.tail()"
      ],
      "execution_count": null,
      "outputs": [
        {
          "output_type": "execute_result",
          "data": {
            "text/html": [
              "<div>\n",
              "<style scoped>\n",
              "    .dataframe tbody tr th:only-of-type {\n",
              "        vertical-align: middle;\n",
              "    }\n",
              "\n",
              "    .dataframe tbody tr th {\n",
              "        vertical-align: top;\n",
              "    }\n",
              "\n",
              "    .dataframe thead th {\n",
              "        text-align: right;\n",
              "    }\n",
              "</style>\n",
              "<table border=\"1\" class=\"dataframe\">\n",
              "  <thead>\n",
              "    <tr style=\"text-align: right;\">\n",
              "      <th></th>\n",
              "      <th>Price</th>\n",
              "      <th>P_test_pre_TI</th>\n",
              "    </tr>\n",
              "    <tr>\n",
              "      <th>datetime</th>\n",
              "      <th></th>\n",
              "      <th></th>\n",
              "    </tr>\n",
              "  </thead>\n",
              "  <tbody>\n",
              "    <tr>\n",
              "      <th>2020-12-24</th>\n",
              "      <td>11.64</td>\n",
              "      <td>11.594228</td>\n",
              "    </tr>\n",
              "    <tr>\n",
              "      <th>2020-12-27</th>\n",
              "      <td>11.49</td>\n",
              "      <td>11.667475</td>\n",
              "    </tr>\n",
              "    <tr>\n",
              "      <th>2020-12-28</th>\n",
              "      <td>11.47</td>\n",
              "      <td>11.607362</td>\n",
              "    </tr>\n",
              "    <tr>\n",
              "      <th>2020-12-29</th>\n",
              "      <td>11.49</td>\n",
              "      <td>11.554937</td>\n",
              "    </tr>\n",
              "    <tr>\n",
              "      <th>2020-12-30</th>\n",
              "      <td>11.80</td>\n",
              "      <td>11.561555</td>\n",
              "    </tr>\n",
              "  </tbody>\n",
              "</table>\n",
              "</div>"
            ],
            "text/plain": [
              "            Price  P_test_pre_TI\n",
              "datetime                        \n",
              "2020-12-24  11.64      11.594228\n",
              "2020-12-27  11.49      11.667475\n",
              "2020-12-28  11.47      11.607362\n",
              "2020-12-29  11.49      11.554937\n",
              "2020-12-30  11.80      11.561555"
            ]
          },
          "metadata": {},
          "execution_count": 108
        }
      ]
    },
    {
      "cell_type": "code",
      "metadata": {
        "id": "OdAtk43x7eVY"
      },
      "source": [
        ""
      ],
      "execution_count": null,
      "outputs": []
    },
    {
      "cell_type": "code",
      "metadata": {
        "id": "sRTYzTIt9qVH"
      },
      "source": [
        "realY.to_csv('TRAINY_Tech_ETEL.csv')"
      ],
      "execution_count": null,
      "outputs": []
    },
    {
      "cell_type": "code",
      "metadata": {
        "id": "horwNr9E-P4X"
      },
      "source": [
        "TESTY.to_csv('TESTY_Tech_ETEL.csv')"
      ],
      "execution_count": null,
      "outputs": []
    }
  ]
}